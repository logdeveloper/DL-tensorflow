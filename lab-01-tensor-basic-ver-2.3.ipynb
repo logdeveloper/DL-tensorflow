{
 "cells": [
  {
   "cell_type": "code",
   "execution_count": 1,
   "metadata": {
    "ExecuteTime": {
     "end_time": "2020-09-25T00:25:04.055919Z",
     "start_time": "2020-09-25T00:24:55.384609Z"
    }
   },
   "outputs": [],
   "source": [
    "import tensorflow as tf"
   ]
  },
  {
   "cell_type": "code",
   "execution_count": 4,
   "metadata": {
    "ExecuteTime": {
     "end_time": "2020-09-25T00:25:04.117743Z",
     "start_time": "2020-09-25T00:25:04.104751Z"
    }
   },
   "outputs": [
    {
     "data": {
      "text/plain": [
       "'2.3.0'"
      ]
     },
     "execution_count": 4,
     "metadata": {},
     "output_type": "execute_result"
    }
   ],
   "source": [
    "# 텐서플로우 버전 확인\n",
    "tf.__version__"
   ]
  },
  {
   "cell_type": "code",
   "execution_count": 7,
   "metadata": {
    "ExecuteTime": {
     "end_time": "2020-09-25T00:25:46.159953Z",
     "start_time": "2020-09-25T00:25:46.108092Z"
    }
   },
   "outputs": [
    {
     "name": "stdout",
     "output_type": "stream",
     "text": [
      "Hello, Tensor\r\n"
     ]
    }
   ],
   "source": [
    "# tf.Session()은 1.0.0 version에서 사용하던 것. 2.0 version 이후엔 그냥 실행하면된다.\n",
    "# sess = tf.Session() \n",
    "hello= \"Hello, Tensor\"\n",
    "tf.print(hello)"
   ]
  },
  {
   "cell_type": "code",
   "execution_count": 8,
   "metadata": {
    "ExecuteTime": {
     "end_time": "2020-09-25T00:25:51.220828Z",
     "start_time": "2020-09-25T00:25:51.202863Z"
    }
   },
   "outputs": [],
   "source": [
    "node1 = tf.constant(3.0, tf.float32)\n",
    "node2 = tf.constant(4.0)\n",
    "node3 = tf.add(node1, node2)"
   ]
  },
  {
   "cell_type": "code",
   "execution_count": 9,
   "metadata": {
    "ExecuteTime": {
     "end_time": "2020-09-25T00:25:51.236807Z",
     "start_time": "2020-09-25T00:25:51.222810Z"
    }
   },
   "outputs": [
    {
     "name": "stdout",
     "output_type": "stream",
     "text": [
      "node1: tf.Tensor(3.0, shape=(), dtype=float32) node2: tf.Tensor(4.0, shape=(), dtype=float32)\n",
      "node3: tf.Tensor(7.0, shape=(), dtype=float32)\n"
     ]
    }
   ],
   "source": [
    "print(\"node1:\", node1,\"node2:\", node2  )\n",
    "print(\"node3:\", node3 )"
   ]
  },
  {
   "cell_type": "code",
   "execution_count": 22,
   "metadata": {
    "ExecuteTime": {
     "end_time": "2020-09-25T00:33:08.180877Z",
     "start_time": "2020-09-25T00:33:08.084137Z"
    }
   },
   "outputs": [
    {
     "name": "stdout",
     "output_type": "stream",
     "text": [
      "tf.Tensor(3, shape=(), dtype=int32)\n",
      "tf.Tensor([4 6], shape=(2,), dtype=int32)\n",
      "tf.Tensor(\n",
      "[[ 5  7  9]\n",
      " [11 13 15]], shape=(2, 3), dtype=int32)\n"
     ]
    }
   ],
   "source": [
    "import numpy as np\n",
    "\n",
    "# a = tf.placeholder(tf.float32)\n",
    "# b = tf.placeholder(tf.float32)\n",
    "\n",
    "@tf.function\n",
    "def addfunc(a,b):\n",
    "    return a + b\n",
    "\n",
    "a = tf.constant(1)\n",
    "b = tf.constant(2)\n",
    "print(addfunc(a,b))\n",
    "\n",
    "c = tf.constant([1,2])\n",
    "d = tf.constant([3,4])\n",
    "print(addfunc(c,d))\n",
    "\n",
    "e = tf.constant([[1,2,3], [4,5,6]])\n",
    "f = tf.constant([[4,5,6], [7,8,9]])\n",
    "print(addfunc(e,f))\n"
   ]
  },
  {
   "cell_type": "code",
   "execution_count": 24,
   "metadata": {
    "ExecuteTime": {
     "end_time": "2020-09-25T00:37:34.694675Z",
     "start_time": "2020-09-25T00:37:34.672735Z"
    }
   },
   "outputs": [
    {
     "name": "stdout",
     "output_type": "stream",
     "text": [
      "tf.Tensor(30, shape=(), dtype=int32)\n"
     ]
    }
   ],
   "source": [
    "print(addfunc(3,7)*3)"
   ]
  }
 ],
 "metadata": {
  "hide_input": false,
  "kernelspec": {
   "display_name": "Python 3",
   "language": "python",
   "name": "python3"
  },
  "language_info": {
   "codemirror_mode": {
    "name": "ipython",
    "version": 3
   },
   "file_extension": ".py",
   "mimetype": "text/x-python",
   "name": "python",
   "nbconvert_exporter": "python",
   "pygments_lexer": "ipython3",
   "version": "3.7.9"
  },
  "toc": {
   "base_numbering": 1,
   "nav_menu": {},
   "number_sections": true,
   "sideBar": true,
   "skip_h1_title": false,
   "title_cell": "Table of Contents",
   "title_sidebar": "Contents",
   "toc_cell": false,
   "toc_position": {},
   "toc_section_display": true,
   "toc_window_display": false
  }
 },
 "nbformat": 4,
 "nbformat_minor": 4
}
