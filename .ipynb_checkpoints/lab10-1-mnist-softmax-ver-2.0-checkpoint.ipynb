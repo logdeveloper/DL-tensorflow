{
 "cells": [
  {
   "cell_type": "code",
   "execution_count": 22,
   "metadata": {
    "ExecuteTime": {
     "end_time": "2020-10-20T06:13:55.571728Z",
     "start_time": "2020-10-20T06:13:55.563749Z"
    }
   },
   "outputs": [],
   "source": [
    "import tensorflow as tf\n",
    "import random\n",
    "import numpy as np"
   ]
  },
  {
   "cell_type": "markdown",
   "metadata": {},
   "source": [
    "## data 준비\n",
    "- hyperparameter 설정"
   ]
  },
  {
   "cell_type": "code",
   "execution_count": 2,
   "metadata": {
    "ExecuteTime": {
     "end_time": "2020-10-20T05:50:51.672688Z",
     "start_time": "2020-10-20T05:50:51.657557Z"
    }
   },
   "outputs": [],
   "source": [
    "learning_rate = 0.001\n",
    "batch_size = 100\n",
    "training_epochs = 15\n",
    "nb_classes = 10"
   ]
  },
  {
   "cell_type": "code",
   "execution_count": 3,
   "metadata": {
    "ExecuteTime": {
     "end_time": "2020-10-20T05:51:04.283430Z",
     "start_time": "2020-10-20T05:51:04.276458Z"
    }
   },
   "outputs": [],
   "source": [
    "mnist = tf.keras.datasets.mnist`"
   ]
  },
  {
   "cell_type": "code",
   "execution_count": 4,
   "metadata": {
    "ExecuteTime": {
     "end_time": "2020-10-20T05:51:25.170179Z",
     "start_time": "2020-10-20T05:51:24.740330Z"
    }
   },
   "outputs": [],
   "source": [
    "(x_train, y_train) , (x_test, y_test) = mnist.load_data()"
   ]
  },
  {
   "cell_type": "code",
   "execution_count": 5,
   "metadata": {
    "ExecuteTime": {
     "end_time": "2020-10-20T05:51:59.267807Z",
     "start_time": "2020-10-20T05:51:59.035428Z"
    }
   },
   "outputs": [],
   "source": [
    "# data 정규화\n",
    "x_train, x_test = x_train / 255.0, x_test / 255.0"
   ]
  },
  {
   "cell_type": "code",
   "execution_count": 6,
   "metadata": {
    "ExecuteTime": {
     "end_time": "2020-10-20T05:53:01.617710Z",
     "start_time": "2020-10-20T05:53:01.602775Z"
    }
   },
   "outputs": [
    {
     "name": "stdout",
     "output_type": "stream",
     "text": [
      "(60000, 28, 28)\n"
     ]
    }
   ],
   "source": [
    "# data 모양 바꾸기 (60000, 28, 28) -> (60000, 784)\n",
    "print(x_train.shape)\n",
    "x_train = x_train.reshape(x_train.shape[0], x_train.shape[1] * x_train.shape[2])\n",
    "x_test = x_test.reshape(x_test.shape[0], x_test.shape[1] * x_test.shape[2])"
   ]
  },
  {
   "cell_type": "code",
   "execution_count": 8,
   "metadata": {
    "ExecuteTime": {
     "end_time": "2020-10-20T05:57:27.494051Z",
     "start_time": "2020-10-20T05:57:27.477083Z"
    }
   },
   "outputs": [],
   "source": [
    "# one-hot encoding \n",
    "y_train = tf.keras.utils.to_categorical(y_train, 10)\n",
    "y_test = tf.keras.utils.to_categorical(y_test, 10)"
   ]
  },
  {
   "cell_type": "markdown",
   "metadata": {},
   "source": [
    "## softmax "
   ]
  },
  {
   "cell_type": "code",
   "execution_count": 11,
   "metadata": {
    "ExecuteTime": {
     "end_time": "2020-10-20T06:02:05.875323Z",
     "start_time": "2020-10-20T06:02:05.841411Z"
    }
   },
   "outputs": [
    {
     "name": "stdout",
     "output_type": "stream",
     "text": [
      "Model: \"sequential_1\"\n",
      "_________________________________________________________________\n",
      "Layer (type)                 Output Shape              Param #   \n",
      "=================================================================\n",
      "dense_1 (Dense)              (None, 10)                7850      \n",
      "=================================================================\n",
      "Total params: 7,850\n",
      "Trainable params: 7,850\n",
      "Non-trainable params: 0\n",
      "_________________________________________________________________\n"
     ]
    }
   ],
   "source": [
    "# 모델 준비 \n",
    "tf.model = tf.keras.Sequential()\n",
    "tf.model.add(tf.keras.layers.Dense(units=10, input_dim = 784, activation = 'softmax'))\n",
    "tf.model.compile(loss='categorical_crossentropy', optimizer=tf.optimizers.Adam(0.001), metrics=['accuracy'])\n",
    "tf.model.summary()"
   ]
  },
  {
   "cell_type": "code",
   "execution_count": 12,
   "metadata": {
    "ExecuteTime": {
     "end_time": "2020-10-20T06:02:19.403800Z",
     "start_time": "2020-10-20T06:02:07.579660Z"
    }
   },
   "outputs": [
    {
     "name": "stdout",
     "output_type": "stream",
     "text": [
      "Epoch 1/15\n",
      "600/600 [==============================] - 1s 1ms/step - loss: 0.6321 - accuracy: 0.8421\n",
      "Epoch 2/15\n",
      "600/600 [==============================] - 1s 1ms/step - loss: 0.3468 - accuracy: 0.9052\n",
      "Epoch 3/15\n",
      "600/600 [==============================] - 1s 1ms/step - loss: 0.3097 - accuracy: 0.9137\n",
      "Epoch 4/15\n",
      "600/600 [==============================] - 1s 1ms/step - loss: 0.2925 - accuracy: 0.9192\n",
      "Epoch 5/15\n",
      "600/600 [==============================] - 1s 1ms/step - loss: 0.2821 - accuracy: 0.9214\n",
      "Epoch 6/15\n",
      "600/600 [==============================] - 1s 1ms/step - loss: 0.2750 - accuracy: 0.9228\n",
      "Epoch 7/15\n",
      "600/600 [==============================] - 1s 1ms/step - loss: 0.2697 - accuracy: 0.9251\n",
      "Epoch 8/15\n",
      "600/600 [==============================] - 1s 1ms/step - loss: 0.2658 - accuracy: 0.9263\n",
      "Epoch 9/15\n",
      "600/600 [==============================] - 1s 1ms/step - loss: 0.2623 - accuracy: 0.9269\n",
      "Epoch 10/15\n",
      "600/600 [==============================] - 1s 1ms/step - loss: 0.2593 - accuracy: 0.9286\n",
      "Epoch 11/15\n",
      "600/600 [==============================] - 1s 1ms/step - loss: 0.2568 - accuracy: 0.9285\n",
      "Epoch 12/15\n",
      "600/600 [==============================] - 1s 1ms/step - loss: 0.2547 - accuracy: 0.9298\n",
      "Epoch 13/15\n",
      "600/600 [==============================] - 1s 1ms/step - loss: 0.2530 - accuracy: 0.9299\n",
      "Epoch 14/15\n",
      "600/600 [==============================] - 1s 1ms/step - loss: 0.2513 - accuracy: 0.9301\n",
      "Epoch 15/15\n",
      "600/600 [==============================] - 1s 2ms/step - loss: 0.2500 - accuracy: 0.9313\n"
     ]
    }
   ],
   "source": [
    "history = tf.model.fit(x_train, y_train, batch_size = batch_size, epochs= training_epochs)"
   ]
  },
  {
   "cell_type": "code",
   "execution_count": 13,
   "metadata": {
    "ExecuteTime": {
     "end_time": "2020-10-20T06:03:45.731868Z",
     "start_time": "2020-10-20T06:03:43.618903Z"
    }
   },
   "outputs": [
    {
     "name": "stdout",
     "output_type": "stream",
     "text": [
      "Prediction:\n",
      " [[2.4935878e-06 9.6446323e-12 7.0093174e-06 ... 9.9502915e-01\n",
      "  1.9520414e-05 3.1727017e-04]\n",
      " [2.5501227e-04 1.9369713e-06 9.9442381e-01 ... 1.2155882e-17\n",
      "  5.8542002e-05 5.8054093e-14]\n",
      " [1.7572671e-06 9.8003113e-01 1.1502749e-02 ... 7.5358065e-04\n",
      "  3.4006617e-03 2.2910912e-04]\n",
      " ...\n",
      " [1.6854166e-08 7.7413720e-09 6.2161898e-06 ... 1.3612731e-03\n",
      "  8.9929588e-03 1.8875396e-02]\n",
      " [1.7370736e-07 2.2379679e-07 2.1456052e-07 ... 9.3114885e-08\n",
      "  9.0105608e-03 1.2724213e-07]\n",
      " [1.6383977e-06 3.6251082e-14 9.5807358e-05 ... 8.8834138e-13\n",
      "  4.0407741e-08 8.8220618e-11]]\n",
      "1875/1875 [==============================] - 1s 659us/step - loss: 0.2446 - accuracy: 0.9329\n",
      "Accuracy:  0.9328500032424927\n"
     ]
    }
   ],
   "source": [
    "predictions = tf.model.predict(x_test)\n",
    "print('Prediction:\\n', predictions)\n",
    "\n",
    "score = tf.model.evaluate(x_train, y_train)\n",
    "print('Accuracy: ', score[1])"
   ]
  },
  {
   "cell_type": "markdown",
   "metadata": {},
   "source": [
    "softmax를 적용했을때 정확도는 `93%` 나온다."
   ]
  },
  {
   "cell_type": "markdown",
   "metadata": {},
   "source": [
    "## mnist nn"
   ]
  },
  {
   "cell_type": "markdown",
   "metadata": {},
   "source": [
    "이번엔 같은 조건에서 nn(nueral net)을 적용해보자."
   ]
  },
  {
   "cell_type": "code",
   "execution_count": 16,
   "metadata": {
    "ExecuteTime": {
     "end_time": "2020-10-20T06:10:30.098264Z",
     "start_time": "2020-10-20T06:10:30.049141Z"
    }
   },
   "outputs": [
    {
     "name": "stdout",
     "output_type": "stream",
     "text": [
      "Model: \"sequential_4\"\n",
      "_________________________________________________________________\n",
      "Layer (type)                 Output Shape              Param #   \n",
      "=================================================================\n",
      "dense_5 (Dense)              (None, 256)               200960    \n",
      "_________________________________________________________________\n",
      "dense_6 (Dense)              (None, 256)               65792     \n",
      "_________________________________________________________________\n",
      "dense_7 (Dense)              (None, 10)                2570      \n",
      "=================================================================\n",
      "Total params: 269,322\n",
      "Trainable params: 269,322\n",
      "Non-trainable params: 0\n",
      "_________________________________________________________________\n"
     ]
    }
   ],
   "source": [
    "tf.model = tf.keras.Sequential()\n",
    "# layer1\n",
    "tf.model.add(tf.keras.layers.Dense(input_dim = 784, units = 256, activation = 'relu'))\n",
    "# layer2\n",
    "tf.model.add(tf.keras.layers.Dense(units = 256, activation = 'relu'))\n",
    "# hypotheis\n",
    "tf.model.add(tf.keras.layers.Dense(units = 10, activation = 'softmax'))\n",
    "# cost/optimizer setting\n",
    "tf.model.compile(loss='categorical_crossentropy',\n",
    "                optimizer = tf.keras.optimizers.Adam(lr = learning_rate), metrics=['accuracy'])\n",
    "\n",
    "tf.model.summary()"
   ]
  },
  {
   "cell_type": "code",
   "execution_count": 18,
   "metadata": {
    "ExecuteTime": {
     "end_time": "2020-10-20T06:11:57.448994Z",
     "start_time": "2020-10-20T06:11:32.226070Z"
    }
   },
   "outputs": [
    {
     "name": "stdout",
     "output_type": "stream",
     "text": [
      "Epoch 1/15\n",
      "600/600 [==============================] - 2s 3ms/step - loss: 0.2452 - accuracy: 0.9278\n",
      "Epoch 2/15\n",
      "600/600 [==============================] - 2s 3ms/step - loss: 0.0923 - accuracy: 0.9717\n",
      "Epoch 3/15\n",
      "600/600 [==============================] - 2s 3ms/step - loss: 0.0606 - accuracy: 0.9812\n",
      "Epoch 4/15\n",
      "600/600 [==============================] - 1s 2ms/step - loss: 0.0437 - accuracy: 0.9857\n",
      "Epoch 5/15\n",
      "600/600 [==============================] - 2s 3ms/step - loss: 0.0333 - accuracy: 0.9891\n",
      "Epoch 6/15\n",
      "600/600 [==============================] - 2s 3ms/step - loss: 0.0264 - accuracy: 0.9915\n",
      "Epoch 7/15\n",
      "600/600 [==============================] - 2s 3ms/step - loss: 0.0208 - accuracy: 0.9932\n",
      "Epoch 8/15\n",
      "600/600 [==============================] - 2s 3ms/step - loss: 0.0199 - accuracy: 0.9936\n",
      "Epoch 9/15\n",
      "600/600 [==============================] - 2s 3ms/step - loss: 0.0138 - accuracy: 0.9956\n",
      "Epoch 10/15\n",
      "600/600 [==============================] - 1s 2ms/step - loss: 0.0147 - accuracy: 0.9951\n",
      "Epoch 11/15\n",
      "600/600 [==============================] - 2s 3ms/step - loss: 0.0129 - accuracy: 0.9955\n",
      "Epoch 12/15\n",
      "600/600 [==============================] - 2s 3ms/step - loss: 0.0112 - accuracy: 0.9961\n",
      "Epoch 13/15\n",
      "600/600 [==============================] - 2s 3ms/step - loss: 0.0112 - accuracy: 0.9963\n",
      "Epoch 14/15\n",
      "600/600 [==============================] - 2s 3ms/step - loss: 0.0126 - accuracy: 0.9959\n",
      "Epoch 15/15\n",
      "600/600 [==============================] - 2s 3ms/step - loss: 0.0056 - accuracy: 0.9981\n"
     ]
    },
    {
     "data": {
      "text/plain": [
       "<tensorflow.python.keras.callbacks.History at 0x26293fe9e88>"
      ]
     },
     "execution_count": 18,
     "metadata": {},
     "output_type": "execute_result"
    }
   ],
   "source": [
    "tf.model.fit(x_train, y_train, batch_size=batch_size, epochs= training_epochs)"
   ]
  },
  {
   "cell_type": "code",
   "execution_count": 23,
   "metadata": {
    "ExecuteTime": {
     "end_time": "2020-10-20T06:13:58.014579Z",
     "start_time": "2020-10-20T06:13:57.739317Z"
    }
   },
   "outputs": [
    {
     "name": "stdout",
     "output_type": "stream",
     "text": [
      "index:  1984 actual y: 2 predicted y:  2\n",
      "index:  4446 actual y: 6 predicted y:  6\n",
      "index:  6857 actual y: 3 predicted y:  3\n",
      "index:  370 actual y: 7 predicted y:  7\n",
      "index:  6246 actual y: 2 predicted y:  2\n",
      "index:  348 actual y: 1 predicted y:  1\n",
      "index:  4731 actual y: 8 predicted y:  7\n",
      "index:  4946 actual y: 4 predicted y:  4\n",
      "index:  4393 actual y: 3 predicted y:  3\n",
      "index:  4085 actual y: 1 predicted y:  1\n"
     ]
    }
   ],
   "source": [
    "# 예측값 가져오기\n",
    "y_predicted = tf.model.predict(x_test)\n",
    "for x in range(0,10):\n",
    "    random_index = random.randint(0, x_test.shape[0]-10)\n",
    "    print(\"index: \", random_index, \"actual y:\", np.argmax(y_test[random_index]), \"predicted y: \", np.argmax(y_predicted[random_index]))\n",
    "    "
   ]
  },
  {
   "cell_type": "code",
   "execution_count": 25,
   "metadata": {
    "ExecuteTime": {
     "end_time": "2020-10-20T06:15:09.541508Z",
     "start_time": "2020-10-20T06:15:09.064186Z"
    }
   },
   "outputs": [
    {
     "name": "stdout",
     "output_type": "stream",
     "text": [
      "313/313 [==============================] - 0s 1ms/step - loss: 0.0917 - accuracy: 0.9794\n",
      "loss: 0.09169597178697586\n",
      "accuracy: 0.9793999791145325\n"
     ]
    }
   ],
   "source": [
    "evaluation = tf.model.evaluate(x_test, y_test)\n",
    "print('loss:', evaluation[0])\n",
    "print('accuracy:', evaluation[1])"
   ]
  },
  {
   "cell_type": "markdown",
   "metadata": {},
   "source": [
    "nueral net을 적용했을때 `97%` 정확도를 보인다. 이값은 softmax보다 더 높은 수치이다. "
   ]
  },
  {
   "cell_type": "markdown",
   "metadata": {},
   "source": [
    "## mnist nn xavier"
   ]
  },
  {
   "cell_type": "code",
   "execution_count": 26,
   "metadata": {
    "ExecuteTime": {
     "end_time": "2020-10-20T06:23:44.461117Z",
     "start_time": "2020-10-20T06:23:44.419202Z"
    }
   },
   "outputs": [],
   "source": [
    "tf.model = tf.keras.Sequential()\n",
    "\n",
    "tf.model.add(tf.keras.layers.Dense(input_dim = 784, units = 256, kernel_initializer='glorot_normal', activation = 'relu'))\n",
    "tf.model.add(tf.keras.layers.Dense(units = 256, kernel_initializer='glorot_normal', activation = 'relu'))\n",
    "tf.model.add(tf.keras.layers.Dense(units = nb_classes, kernel_initializer='glorot_normal', activation = 'softmax'))"
   ]
  },
  {
   "cell_type": "code",
   "execution_count": 29,
   "metadata": {
    "ExecuteTime": {
     "end_time": "2020-10-20T06:35:32.948841Z",
     "start_time": "2020-10-20T06:35:32.921914Z"
    }
   },
   "outputs": [
    {
     "name": "stdout",
     "output_type": "stream",
     "text": [
      "Model: \"sequential_5\"\n",
      "_________________________________________________________________\n",
      "Layer (type)                 Output Shape              Param #   \n",
      "=================================================================\n",
      "dense_8 (Dense)              (None, 256)               200960    \n",
      "_________________________________________________________________\n",
      "dense_9 (Dense)              (None, 256)               65792     \n",
      "_________________________________________________________________\n",
      "dense_10 (Dense)             (None, 10)                2570      \n",
      "=================================================================\n",
      "Total params: 269,322\n",
      "Trainable params: 269,322\n",
      "Non-trainable params: 0\n",
      "_________________________________________________________________\n"
     ]
    }
   ],
   "source": [
    "tf.model.compile(loss='categorical_crossentropy', optimizer = tf.keras.optimizers.Adam(lr = learning_rate), metrics=['accuracy'])\n",
    "tf.model.summary()"
   ]
  },
  {
   "cell_type": "code",
   "execution_count": 31,
   "metadata": {
    "ExecuteTime": {
     "end_time": "2020-10-20T06:36:58.291200Z",
     "start_time": "2020-10-20T06:36:32.887424Z"
    }
   },
   "outputs": [
    {
     "name": "stdout",
     "output_type": "stream",
     "text": [
      "Epoch 1/15\n",
      "600/600 [==============================] - 2s 3ms/step - loss: 0.2434 - accuracy: 0.9289\n",
      "Epoch 2/15\n",
      "600/600 [==============================] - 1s 2ms/step - loss: 0.0919 - accuracy: 0.9720\n",
      "Epoch 3/15\n",
      "600/600 [==============================] - 2s 3ms/step - loss: 0.0613 - accuracy: 0.9801\n",
      "Epoch 4/15\n",
      "600/600 [==============================] - 1s 2ms/step - loss: 0.0447 - accuracy: 0.9856\n",
      "Epoch 5/15\n",
      "600/600 [==============================] - 2s 3ms/step - loss: 0.0333 - accuracy: 0.9893\n",
      "Epoch 6/15\n",
      "600/600 [==============================] - 2s 3ms/step - loss: 0.0259 - accuracy: 0.9917\n",
      "Epoch 7/15\n",
      "600/600 [==============================] - 2s 3ms/step - loss: 0.0226 - accuracy: 0.9925\n",
      "Epoch 8/15\n",
      "600/600 [==============================] - 2s 3ms/step - loss: 0.0194 - accuracy: 0.9936\n",
      "Epoch 9/15\n",
      "600/600 [==============================] - 2s 3ms/step - loss: 0.0166 - accuracy: 0.9944\n",
      "Epoch 10/15\n",
      "600/600 [==============================] - 2s 3ms/step - loss: 0.0144 - accuracy: 0.9953\n",
      "Epoch 11/15\n",
      "600/600 [==============================] - 2s 3ms/step - loss: 0.0127 - accuracy: 0.9957: 0s - loss: 0.0123 - accuracy\n",
      "Epoch 12/15\n",
      "600/600 [==============================] - 2s 3ms/step - loss: 0.0118 - accuracy: 0.9961\n",
      "Epoch 13/15\n",
      "600/600 [==============================] - 2s 3ms/step - loss: 0.0085 - accuracy: 0.9974\n",
      "Epoch 14/15\n",
      "600/600 [==============================] - 2s 3ms/step - loss: 0.0122 - accuracy: 0.9960\n",
      "Epoch 15/15\n",
      "600/600 [==============================] - 2s 3ms/step - loss: 0.0109 - accuracy: 0.9962\n"
     ]
    }
   ],
   "source": [
    "history = tf.model.fit(x_train, y_train, batch_size=batch_size, epochs=training_epochs)"
   ]
  },
  {
   "cell_type": "code",
   "execution_count": 32,
   "metadata": {
    "ExecuteTime": {
     "end_time": "2020-10-20T06:38:23.590161Z",
     "start_time": "2020-10-20T06:38:23.265053Z"
    }
   },
   "outputs": [
    {
     "name": "stdout",
     "output_type": "stream",
     "text": [
      "index:  1894 actual y:  9 predicted y : 9\n",
      "index:  4762 actual y:  5 predicted y : 5\n",
      "index:  7537 actual y:  0 predicted y : 0\n",
      "index:  4870 actual y:  2 predicted y : 2\n",
      "index:  8119 actual y:  2 predicted y : 2\n",
      "index:  8231 actual y:  1 predicted y : 1\n",
      "index:  262 actual y:  7 predicted y : 7\n",
      "index:  7952 actual y:  9 predicted y : 9\n",
      "index:  4040 actual y:  9 predicted y : 9\n",
      "index:  6721 actual y:  2 predicted y : 2\n"
     ]
    }
   ],
   "source": [
    "y_predicted = tf.model.predict(x_test)\n",
    "# 예측값과 실제 값 비교 해보기 \n",
    "for x in range(0,10):\n",
    "    random_index = random.randint(0, x_test.shape[0]-1)\n",
    "    print(\"index: \", random_index,\n",
    "         \"actual y: \", np.argmax(y_test[random_index]),\n",
    "          \"predicted y :\", np.argmax(y_predicted[random_index])\n",
    "         )"
   ]
  },
  {
   "cell_type": "code",
   "execution_count": 33,
   "metadata": {
    "ExecuteTime": {
     "end_time": "2020-10-20T06:39:37.909566Z",
     "start_time": "2020-10-20T06:39:37.428267Z"
    }
   },
   "outputs": [
    {
     "name": "stdout",
     "output_type": "stream",
     "text": [
      "313/313 [==============================] - 0s 1ms/step - loss: 0.0943 - accuracy: 0.9819\n",
      "loss :  0.09426333755254745  accuracy:  0.9818999767303467\n"
     ]
    }
   ],
   "source": [
    "# loss, 정확도 평가 \n",
    "evaluation = tf.model.evaluate(x_test, y_test)\n",
    "print('loss : ', evaluation[0], ' accuracy: ', evaluation[1])"
   ]
  },
  {
   "cell_type": "markdown",
   "metadata": {},
   "source": [
    "nn보다 높은 수치인 `98%` 나온다. "
   ]
  },
  {
   "cell_type": "markdown",
   "metadata": {},
   "source": [
    "## mnist nn deep "
   ]
  },
  {
   "cell_type": "code",
   "execution_count": 41,
   "metadata": {
    "ExecuteTime": {
     "end_time": "2020-10-20T07:10:40.616437Z",
     "start_time": "2020-10-20T07:10:40.602443Z"
    }
   },
   "outputs": [],
   "source": [
    "tf.model = tf.keras.Sequential()"
   ]
  },
  {
   "cell_type": "code",
   "execution_count": 42,
   "metadata": {
    "ExecuteTime": {
     "end_time": "2020-10-20T07:10:42.134473Z",
     "start_time": "2020-10-20T07:10:42.048702Z"
    }
   },
   "outputs": [
    {
     "name": "stdout",
     "output_type": "stream",
     "text": [
      "Model: \"sequential_7\"\n",
      "_________________________________________________________________\n",
      "Layer (type)                 Output Shape              Param #   \n",
      "=================================================================\n",
      "dense_32 (Dense)             (None, 512)               401920    \n",
      "_________________________________________________________________\n",
      "dense_33 (Dense)             (None, 512)               262656    \n",
      "_________________________________________________________________\n",
      "dense_34 (Dense)             (None, 512)               262656    \n",
      "_________________________________________________________________\n",
      "dense_35 (Dense)             (None, 512)               262656    \n",
      "_________________________________________________________________\n",
      "dense_36 (Dense)             (None, 10)                5130      \n",
      "=================================================================\n",
      "Total params: 1,195,018\n",
      "Trainable params: 1,195,018\n",
      "Non-trainable params: 0\n",
      "_________________________________________________________________\n"
     ]
    }
   ],
   "source": [
    "# layer1\n",
    "tf.model.add(tf.keras.layers.Dense(input_dim=784, units = 512, kernel_initializer = 'glorot_normal', activation='relu'))\n",
    "# layer2\n",
    "tf.model.add(tf.keras.layers.Dense(units = 512, kernel_initializer = 'glorot_normal', activation='relu'))\n",
    "# layer3\n",
    "tf.model.add(tf.keras.layers.Dense(units = 512, kernel_initializer = 'glorot_normal', activation='relu'))\n",
    "# layer4\n",
    "tf.model.add(tf.keras.layers.Dense(units = 512, kernel_initializer = 'glorot_normal', activation='relu'))\n",
    "# hypothesis\n",
    "tf.model.add(tf.keras.layers.Dense(units = 10, kernel_initializer = 'glorot_normal', activation='softmax'))\n",
    "\n",
    "tf.model.compile(loss='categorical_crossentropy',\n",
    "                optimizer=tf.keras.optimizers.Adam(lr=learning_rate), metrics=['accuracy'])\n",
    "tf.model.summary()"
   ]
  },
  {
   "cell_type": "code",
   "execution_count": 44,
   "metadata": {
    "ExecuteTime": {
     "end_time": "2020-10-20T07:12:55.327035Z",
     "start_time": "2020-10-20T07:10:55.689258Z"
    }
   },
   "outputs": [
    {
     "name": "stdout",
     "output_type": "stream",
     "text": [
      "Epoch 1/15\n",
      "600/600 [==============================] - 8s 13ms/step - loss: 0.0886 - accuracy: 0.9730\n",
      "Epoch 2/15\n",
      "600/600 [==============================] - 8s 14ms/step - loss: 0.0626 - accuracy: 0.9812\n",
      "Epoch 3/15\n",
      "600/600 [==============================] - 8s 13ms/step - loss: 0.0493 - accuracy: 0.9849\n",
      "Epoch 4/15\n",
      "600/600 [==============================] - 8s 13ms/step - loss: 0.0403 - accuracy: 0.9877\n",
      "Epoch 5/15\n",
      "600/600 [==============================] - 8s 13ms/step - loss: 0.0334 - accuracy: 0.9897\n",
      "Epoch 6/15\n",
      "600/600 [==============================] - 8s 13ms/step - loss: 0.0287 - accuracy: 0.9909\n",
      "Epoch 7/15\n",
      "600/600 [==============================] - 8s 13ms/step - loss: 0.0272 - accuracy: 0.9921 0s - loss: 0.0272 - accura\n",
      "Epoch 8/15\n",
      "600/600 [==============================] - 8s 13ms/step - loss: 0.0252 - accuracy: 0.9922\n",
      "Epoch 9/15\n",
      "600/600 [==============================] - 8s 13ms/step - loss: 0.0176 - accuracy: 0.9946\n",
      "Epoch 10/15\n",
      "600/600 [==============================] - 8s 13ms/step - loss: 0.0197 - accuracy: 0.9944 0s -\n",
      "Epoch 11/15\n",
      "600/600 [==============================] - 8s 14ms/step - loss: 0.0188 - accuracy: 0.9947\n",
      "Epoch 12/15\n",
      "600/600 [==============================] - 8s 13ms/step - loss: 0.0161 - accuracy: 0.9953\n",
      "Epoch 13/15\n",
      "600/600 [==============================] - 8s 13ms/step - loss: 0.0184 - accuracy: 0.9948\n",
      "Epoch 14/15\n",
      "600/600 [==============================] - 8s 13ms/step - loss: 0.0155 - accuracy: 0.9959\n",
      "Epoch 15/15\n",
      "600/600 [==============================] - 8s 13ms/step - loss: 0.0144 - accuracy: 0.9959\n"
     ]
    }
   ],
   "source": [
    "history = tf.model.fit(x_train, y_train, batch_size=batch_size, epochs = training_epochs)"
   ]
  },
  {
   "cell_type": "code",
   "execution_count": 46,
   "metadata": {
    "ExecuteTime": {
     "end_time": "2020-10-20T07:13:46.764669Z",
     "start_time": "2020-10-20T07:13:45.614746Z"
    }
   },
   "outputs": [
    {
     "name": "stdout",
     "output_type": "stream",
     "text": [
      "index:  7169 actual:  4 predicted:  4\n",
      "index:  9760 actual:  1 predicted:  1\n",
      "index:  6668 actual:  6 predicted:  6\n",
      "index:  3256 actual:  2 predicted:  2\n",
      "index:  6527 actual:  1 predicted:  1\n",
      "index:  8349 actual:  6 predicted:  6\n",
      "index:  3719 actual:  7 predicted:  7\n",
      "index:  7291 actual:  2 predicted:  2\n",
      "index:  2621 actual:  2 predicted:  2\n",
      "index:  3560 actual:  6 predicted:  6\n"
     ]
    }
   ],
   "source": [
    "y_predict = tf.model.predict(x_test)\n",
    "for i in range(0,10):\n",
    "    random_index = random.randint(0, x_test.shape[0]-1)\n",
    "    print(\"index: \", random_index,\n",
    "         \"actual: \", np.argmax(y_test[random_index]),\n",
    "         \"predicted: \", np.argmax(y_predict[random_index]))  \n"
   ]
  },
  {
   "cell_type": "code",
   "execution_count": 45,
   "metadata": {
    "ExecuteTime": {
     "end_time": "2020-10-20T07:13:44.657712Z",
     "start_time": "2020-10-20T07:13:43.197594Z"
    }
   },
   "outputs": [
    {
     "name": "stdout",
     "output_type": "stream",
     "text": [
      "313/313 [==============================] - 1s 4ms/step - loss: 0.0872 - accuracy: 0.9848: 0s - loss: 0.0866 - accuracy: 0.98\n",
      "loss :  0.0871516689658165 accuracy:  0.9847999811172485\n"
     ]
    }
   ],
   "source": [
    "evaluation = tf.model.evaluate(x_test, y_test)\n",
    "print('loss : ', evaluation[0], 'accuracy: ' ,evaluation[1] )"
   ]
  },
  {
   "cell_type": "markdown",
   "metadata": {},
   "source": [
    "xavier보다 `0.003%` 높은 `0.985%` 정확도를 가진다."
   ]
  },
  {
   "cell_type": "markdown",
   "metadata": {},
   "source": [
    "## mnist nn dropout\n",
    "overfitting을 방지하기 위하여 dropout 기능을 적용한다."
   ]
  },
  {
   "cell_type": "code",
   "execution_count": 47,
   "metadata": {
    "ExecuteTime": {
     "end_time": "2020-10-20T07:18:37.591187Z",
     "start_time": "2020-10-20T07:18:37.583218Z"
    }
   },
   "outputs": [],
   "source": [
    "drop_rate = 0.3"
   ]
  },
  {
   "cell_type": "code",
   "execution_count": 55,
   "metadata": {
    "ExecuteTime": {
     "end_time": "2020-10-20T07:27:55.533787Z",
     "start_time": "2020-10-20T07:27:55.518802Z"
    }
   },
   "outputs": [],
   "source": [
    "tf.model = tf.keras.Sequential()"
   ]
  },
  {
   "cell_type": "code",
   "execution_count": 56,
   "metadata": {
    "ExecuteTime": {
     "end_time": "2020-10-20T07:27:55.684359Z",
     "start_time": "2020-10-20T07:27:55.535757Z"
    }
   },
   "outputs": [
    {
     "name": "stdout",
     "output_type": "stream",
     "text": [
      "Model: \"sequential_9\"\n",
      "_________________________________________________________________\n",
      "Layer (type)                 Output Shape              Param #   \n",
      "=================================================================\n",
      "dense_42 (Dense)             (None, 512)               401920    \n",
      "_________________________________________________________________\n",
      "dropout_4 (Dropout)          (None, 512)               0         \n",
      "_________________________________________________________________\n",
      "dense_43 (Dense)             (None, 512)               262656    \n",
      "_________________________________________________________________\n",
      "dropout_5 (Dropout)          (None, 512)               0         \n",
      "_________________________________________________________________\n",
      "dense_44 (Dense)             (None, 512)               262656    \n",
      "_________________________________________________________________\n",
      "dropout_6 (Dropout)          (None, 512)               0         \n",
      "_________________________________________________________________\n",
      "dense_45 (Dense)             (None, 512)               262656    \n",
      "_________________________________________________________________\n",
      "dropout_7 (Dropout)          (None, 512)               0         \n",
      "_________________________________________________________________\n",
      "dense_46 (Dense)             (None, 10)                5130      \n",
      "=================================================================\n",
      "Total params: 1,195,018\n",
      "Trainable params: 1,195,018\n",
      "Non-trainable params: 0\n",
      "_________________________________________________________________\n"
     ]
    }
   ],
   "source": [
    "tf.model.add(tf.keras.layers.Dense(input_dim=784, units = 512, kernel_initializer = 'glorot_normal', activation = 'relu'))\n",
    "tf.model.add(tf.keras.layers.Dropout(drop_rate))\n",
    "tf.model.add(tf.keras.layers.Dense(units = 512, kernel_initializer = 'glorot_normal', activation = 'relu'))\n",
    "tf.model.add(tf.keras.layers.Dropout(drop_rate))\n",
    "tf.model.add(tf.keras.layers.Dense(units = 512, kernel_initializer = 'glorot_normal', activation = 'relu'))\n",
    "tf.model.add(tf.keras.layers.Dropout(drop_rate))\n",
    "tf.model.add(tf.keras.layers.Dense(units = 512, kernel_initializer = 'glorot_normal', activation = 'relu'))\n",
    "tf.model.add(tf.keras.layers.Dropout(drop_rate))\n",
    "tf.model.add(tf.keras.layers.Dense(units = 10, kernel_initializer = 'glorot_normal', activation = 'softmax'))\n",
    "\n",
    "tf.model.compile(loss='categorical_crossentropy', optimizer=tf.keras.optimizers.Adam(lr=learning_rate), metrics=['accuracy'])\n",
    "\n",
    "tf.model.summary()\n"
   ]
  },
  {
   "cell_type": "code",
   "execution_count": 57,
   "metadata": {
    "ExecuteTime": {
     "end_time": "2020-10-20T07:30:18.591029Z",
     "start_time": "2020-10-20T07:27:55.687350Z"
    }
   },
   "outputs": [
    {
     "name": "stdout",
     "output_type": "stream",
     "text": [
      "Epoch 1/15\n",
      "600/600 [==============================] - 11s 19ms/step - loss: 0.3123 - accuracy: 0.9046\n",
      "Epoch 2/15\n",
      "600/600 [==============================] - 10s 17ms/step - loss: 0.1446 - accuracy: 0.95760s - loss: 0.1450 \n",
      "Epoch 3/15\n",
      "600/600 [==============================] - 9s 15ms/step - loss: 0.1135 - accuracy: 0.9673\n",
      "Epoch 4/15\n",
      "600/600 [==============================] - 10s 17ms/step - loss: 0.0957 - accuracy: 0.9720\n",
      "Epoch 5/15\n",
      "600/600 [==============================] - 10s 16ms/step - loss: 0.0827 - accuracy: 0.9751\n",
      "Epoch 6/15\n",
      "600/600 [==============================] - 9s 15ms/step - loss: 0.0735 - accuracy: 0.9785\n",
      "Epoch 7/15\n",
      "600/600 [==============================] - 9s 15ms/step - loss: 0.0677 - accuracy: 0.9803\n",
      "Epoch 8/15\n",
      "600/600 [==============================] - 9s 15ms/step - loss: 0.0634 - accuracy: 0.9808\n",
      "Epoch 9/15\n",
      "600/600 [==============================] - 9s 15ms/step - loss: 0.0628 - accuracy: 0.9820\n",
      "Epoch 10/15\n",
      "600/600 [==============================] - 9s 15ms/step - loss: 0.0534 - accuracy: 0.9838\n",
      "Epoch 11/15\n",
      "600/600 [==============================] - 10s 16ms/step - loss: 0.0552 - accuracy: 0.9841\n",
      "Epoch 12/15\n",
      "600/600 [==============================] - 9s 15ms/step - loss: 0.0488 - accuracy: 0.9855 0s - loss: 0.0489 - accuracy: 0.\n",
      "Epoch 13/15\n",
      "600/600 [==============================] - 9s 15ms/step - loss: 0.0454 - accuracy: 0.9863\n",
      "Epoch 14/15\n",
      "600/600 [==============================] - 9s 14ms/step - loss: 0.0467 - accuracy: 0.9867\n",
      "Epoch 15/15\n",
      "600/600 [==============================] - 9s 15ms/step - loss: 0.0458 - accuracy: 0.9865\n"
     ]
    }
   ],
   "source": [
    "history = tf.model.fit(x_train, y_train, batch_size=batch_size, epochs=training_epochs)"
   ]
  },
  {
   "cell_type": "code",
   "execution_count": 58,
   "metadata": {
    "ExecuteTime": {
     "end_time": "2020-10-20T07:30:21.120017Z",
     "start_time": "2020-10-20T07:30:20.040901Z"
    }
   },
   "outputs": [
    {
     "name": "stdout",
     "output_type": "stream",
     "text": [
      "index : 5915 actualy :  1 predict:  1\n",
      "index : 6873 actualy :  3 predict:  3\n",
      "index : 5554 actualy :  0 predict:  0\n",
      "index : 7705 actualy :  6 predict:  6\n",
      "index : 7772 actualy :  2 predict:  2\n",
      "index : 9182 actualy :  3 predict:  3\n",
      "index : 5859 actualy :  1 predict:  1\n",
      "index : 1127 actualy :  3 predict:  3\n",
      "index : 8890 actualy :  6 predict:  6\n",
      "index : 8672 actualy :  1 predict:  1\n"
     ]
    }
   ],
   "source": [
    "y_predicted = tf.model.predict(x_test)\n",
    "for x in range(0,10):\n",
    "    random_index = random.randint(0, x_test.shape[0]-1)    \n",
    "    print(\"index :\", random_index, \"actualy : \", np.argmax(y_test[random_index]), \"predict: \", np.argmax(y_predicted[random_index]))\n",
    "    "
   ]
  },
  {
   "cell_type": "code",
   "execution_count": 59,
   "metadata": {
    "ExecuteTime": {
     "end_time": "2020-10-20T07:30:55.897127Z",
     "start_time": "2020-10-20T07:30:54.433044Z"
    }
   },
   "outputs": [
    {
     "name": "stdout",
     "output_type": "stream",
     "text": [
      "313/313 [==============================] - 1s 4ms/step - loss: 0.0746 - accuracy: 0.9811\n",
      "loss:  0.07461926341056824\n",
      "accuracy:  0.9811000227928162\n"
     ]
    }
   ],
   "source": [
    "evaluation = tf.model.evaluate(x_test, y_test)\n",
    "print('loss: ', evaluation[0])\n",
    "print('accuracy: ', evaluation[1])"
   ]
  },
  {
   "cell_type": "markdown",
   "metadata": {},
   "source": [
    "dropout 적용 또한 `98%`로 높은 정확도를 보인다."
   ]
  }
 ],
 "metadata": {
  "hide_input": false,
  "kernelspec": {
   "display_name": "Python 3",
   "language": "python",
   "name": "python3"
  },
  "language_info": {
   "codemirror_mode": {
    "name": "ipython",
    "version": 3
   },
   "file_extension": ".py",
   "mimetype": "text/x-python",
   "name": "python",
   "nbconvert_exporter": "python",
   "pygments_lexer": "ipython3",
   "version": "3.7.9"
  },
  "toc": {
   "base_numbering": 1,
   "nav_menu": {},
   "number_sections": true,
   "sideBar": true,
   "skip_h1_title": false,
   "title_cell": "Table of Contents",
   "title_sidebar": "Contents",
   "toc_cell": false,
   "toc_position": {},
   "toc_section_display": true,
   "toc_window_display": false
  }
 },
 "nbformat": 4,
 "nbformat_minor": 4
}
