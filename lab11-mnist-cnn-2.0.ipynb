{
 "cells": [
  {
   "cell_type": "code",
   "execution_count": 1,
   "metadata": {
    "ExecuteTime": {
     "end_time": "2020-10-28T07:23:35.117901Z",
     "start_time": "2020-10-28T07:23:25.873634Z"
    }
   },
   "outputs": [],
   "source": [
    "import tensorflow as tf\n",
    "import numpy as np\n",
    "import random"
   ]
  },
  {
   "cell_type": "code",
   "execution_count": 2,
   "metadata": {
    "ExecuteTime": {
     "end_time": "2020-10-28T07:23:35.160789Z",
     "start_time": "2020-10-28T07:23:35.156798Z"
    }
   },
   "outputs": [],
   "source": [
    "mnist = tf.keras.datasets.mnist"
   ]
  },
  {
   "cell_type": "code",
   "execution_count": 3,
   "metadata": {
    "ExecuteTime": {
     "end_time": "2020-10-28T07:25:39.562994Z",
     "start_time": "2020-10-28T07:25:38.552698Z"
    }
   },
   "outputs": [],
   "source": [
    "(x_train, y_train), (x_test, y_test) = mnist.load_data()"
   ]
  },
  {
   "cell_type": "code",
   "execution_count": 4,
   "metadata": {
    "ExecuteTime": {
     "end_time": "2020-10-28T07:25:40.225221Z",
     "start_time": "2020-10-28T07:25:39.573964Z"
    }
   },
   "outputs": [],
   "source": [
    "x_test = x_test/255 # RGB 255로 나눠.. ?\n",
    "x_train = x_train/255\n",
    "x_train = x_train.reshape(x_train.shape[0], 28, 28, 1)\n",
    "x_test = x_test.reshape(x_test.shape[0], 28, 28, 1)"
   ]
  },
  {
   "cell_type": "code",
   "execution_count": 5,
   "metadata": {
    "ExecuteTime": {
     "end_time": "2020-10-28T07:25:40.251153Z",
     "start_time": "2020-10-28T07:25:40.231206Z"
    }
   },
   "outputs": [],
   "source": [
    "y_train = tf.keras.utils.to_categorical(y_train, 10)\n",
    "y_test = tf.keras.utils.to_categorical(y_test, 10)"
   ]
  },
  {
   "cell_type": "code",
   "execution_count": 6,
   "metadata": {
    "ExecuteTime": {
     "end_time": "2020-10-28T07:25:40.313985Z",
     "start_time": "2020-10-28T07:25:40.254145Z"
    }
   },
   "outputs": [],
   "source": [
    "# hypter parameter 설정\n",
    "learning_rate = 0.001\n",
    "training_epochs = 12\n",
    "batch_size = 128"
   ]
  },
  {
   "cell_type": "code",
   "execution_count": 7,
   "metadata": {
    "ExecuteTime": {
     "end_time": "2020-10-28T07:25:40.514451Z",
     "start_time": "2020-10-28T07:25:40.316976Z"
    }
   },
   "outputs": [],
   "source": [
    "tf.model = tf.keras.Sequential()"
   ]
  },
  {
   "cell_type": "code",
   "execution_count": 8,
   "metadata": {
    "ExecuteTime": {
     "end_time": "2020-10-28T07:25:40.819631Z",
     "start_time": "2020-10-28T07:25:40.524421Z"
    }
   },
   "outputs": [
    {
     "name": "stdout",
     "output_type": "stream",
     "text": [
      "Model: \"sequential\"\n",
      "_________________________________________________________________\n",
      "Layer (type)                 Output Shape              Param #   \n",
      "=================================================================\n",
      "conv2d (Conv2D)              (None, 26, 26, 16)        160       \n",
      "_________________________________________________________________\n",
      "max_pooling2d (MaxPooling2D) (None, 13, 13, 16)        0         \n",
      "_________________________________________________________________\n",
      "conv2d_1 (Conv2D)            (None, 11, 11, 32)        4640      \n",
      "_________________________________________________________________\n",
      "max_pooling2d_1 (MaxPooling2 (None, 5, 5, 32)          0         \n",
      "_________________________________________________________________\n",
      "flatten (Flatten)            (None, 800)               0         \n",
      "_________________________________________________________________\n",
      "dense (Dense)                (None, 10)                8010      \n",
      "=================================================================\n",
      "Total params: 12,810\n",
      "Trainable params: 12,810\n",
      "Non-trainable params: 0\n",
      "_________________________________________________________________\n"
     ]
    }
   ],
   "source": [
    "# Layer 1\n",
    "# tf.model.add(tf.keras.layers.Conv2D(filters=16, kernel_size=(3,3), input_shape=(28,28,1), activation = 'relu'))\n",
    "tf.model.add(tf.keras.layers.Conv2D(filters=16, kernel_size=(3, 3), input_shape=(28, 28, 1), activation='relu'))\n",
    "tf.model.add(tf.keras.layers.MaxPooling2D(pool_size=(2,2)))\n",
    "\n",
    "# Layer 2\n",
    "tf.model.add(tf.keras.layers.Conv2D(filters=32, kernel_size=(3,3), activation = 'relu'))\n",
    "tf.model.add(tf.keras.layers.MaxPooling2D(pool_size=(2,2)))\n",
    "\n",
    "# Layer 3\n",
    "tf.model.add(tf.keras.layers.Flatten())\n",
    "tf.model.add(tf.keras.layers.Dense(units=10, kernel_initializer = 'glorot_normal', activation='softmax'))\n",
    "\n",
    "tf.model.compile (loss='categorical_crossentropy', optimizer = tf.keras.optimizers.Adam(lr=learning_rate), metrics=['accuracy'])\n",
    "tf.model.summary()"
   ]
  },
  {
   "cell_type": "code",
   "execution_count": 9,
   "metadata": {
    "ExecuteTime": {
     "end_time": "2020-10-28T07:43:33.799581Z",
     "start_time": "2020-10-28T07:40:51.812494Z"
    }
   },
   "outputs": [
    {
     "name": "stdout",
     "output_type": "stream",
     "text": [
      "Epoch 1/12\n",
      "469/469 [==============================] - 14s 30ms/step - loss: 0.3471 - accuracy: 0.9075\n",
      "Epoch 2/12\n",
      "469/469 [==============================] - 13s 28ms/step - loss: 0.0929 - accuracy: 0.9722\n",
      "Epoch 3/12\n",
      "469/469 [==============================] - 13s 29ms/step - loss: 0.0696 - accuracy: 0.9787\n",
      "Epoch 4/12\n",
      "469/469 [==============================] - 13s 28ms/step - loss: 0.0580 - accuracy: 0.9821\n",
      "Epoch 5/12\n",
      "469/469 [==============================] - 13s 28ms/step - loss: 0.0516 - accuracy: 0.9840\n",
      "Epoch 6/12\n",
      "469/469 [==============================] - 13s 29ms/step - loss: 0.0458 - accuracy: 0.9860\n",
      "Epoch 7/12\n",
      "469/469 [==============================] - 14s 29ms/step - loss: 0.0403 - accuracy: 0.9877\n",
      "Epoch 8/12\n",
      "469/469 [==============================] - 13s 28ms/step - loss: 0.0384 - accuracy: 0.9880\n",
      "Epoch 9/12\n",
      "469/469 [==============================] - 14s 29ms/step - loss: 0.0342 - accuracy: 0.9894\n",
      "Epoch 10/12\n",
      "469/469 [==============================] - 13s 29ms/step - loss: 0.0315 - accuracy: 0.9902\n",
      "Epoch 11/12\n",
      "469/469 [==============================] - 13s 28ms/step - loss: 0.0294 - accuracy: 0.9911\n",
      "Epoch 12/12\n",
      "469/469 [==============================] - 13s 28ms/step - loss: 0.0278 - accuracy: 0.9913\n"
     ]
    },
    {
     "data": {
      "text/plain": [
       "<tensorflow.python.keras.callbacks.History at 0x276d3d1a648>"
      ]
     },
     "execution_count": 9,
     "metadata": {},
     "output_type": "execute_result"
    }
   ],
   "source": [
    "tf.model.fit(x_train, y_train, batch_size= batch_size, epochs=training_epochs)"
   ]
  },
  {
   "cell_type": "raw",
   "metadata": {},
   "source": [
    "- 12번의 시도 결과 loss는 줄어들고, 정확도는 99.13%으로 출력되었다.\n",
    "- tensorflow 1.0 보다 속도가 훨 빠르다.."
   ]
  },
  {
   "cell_type": "code",
   "execution_count": 11,
   "metadata": {
    "ExecuteTime": {
     "end_time": "2020-10-28T07:44:24.926533Z",
     "start_time": "2020-10-28T07:44:22.641933Z"
    }
   },
   "outputs": [
    {
     "name": "stdout",
     "output_type": "stream",
     "text": [
      "index:  7474 actual y:  5 predicted y:  5\n",
      "index:  7128 actual y:  9 predicted y:  9\n",
      "index:  9402 actual y:  8 predicted y:  8\n",
      "index:  5833 actual y:  5 predicted y:  5\n",
      "index:  1746 actual y:  3 predicted y:  3\n",
      "index:  7890 actual y:  1 predicted y:  1\n",
      "index:  69 actual y:  0 predicted y:  0\n",
      "index:  730 actual y:  7 predicted y:  7\n",
      "index:  5797 actual y:  8 predicted y:  8\n",
      "index:  1406 actual y:  5 predicted y:  5\n",
      "313/313 [==============================] - 1s 4ms/step - loss: 0.0311 - accuracy: 0.9895\n",
      "loss:  0.0311454925686121\n",
      "accuracy:  0.9894999861717224\n"
     ]
    }
   ],
   "source": [
    "y_predicted = tf.model.predict(x_test)\n",
    "for x in range(0,10):\n",
    "    random_index = random.randint(0, x_test.shape[0]-1)\n",
    "    print(\"index: \", random_index,\n",
    "         \"actual y: \", np.argmax(y_test[random_index]),\n",
    "         \"predicted y: \", np.argmax(y_predicted[random_index]))\n",
    "evaluation = tf.model.evaluate(x_test, y_test)\n",
    "print('loss: ', evaluation[0])\n",
    "print('accuracy: ', evaluation[1])"
   ]
  },
  {
   "cell_type": "code",
   "execution_count": null,
   "metadata": {},
   "outputs": [],
   "source": []
  },
  {
   "cell_type": "code",
   "execution_count": null,
   "metadata": {},
   "outputs": [],
   "source": []
  }
 ],
 "metadata": {
  "hide_input": false,
  "kernelspec": {
   "display_name": "Python 3",
   "language": "python",
   "name": "python3"
  },
  "language_info": {
   "codemirror_mode": {
    "name": "ipython",
    "version": 3
   },
   "file_extension": ".py",
   "mimetype": "text/x-python",
   "name": "python",
   "nbconvert_exporter": "python",
   "pygments_lexer": "ipython3",
   "version": "3.7.9"
  },
  "toc": {
   "base_numbering": 1,
   "nav_menu": {},
   "number_sections": true,
   "sideBar": true,
   "skip_h1_title": false,
   "title_cell": "Table of Contents",
   "title_sidebar": "Contents",
   "toc_cell": false,
   "toc_position": {},
   "toc_section_display": true,
   "toc_window_display": false
  }
 },
 "nbformat": 4,
 "nbformat_minor": 4
}
