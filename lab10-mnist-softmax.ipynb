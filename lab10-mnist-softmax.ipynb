{
 "cells": [
  {
   "cell_type": "markdown",
   "metadata": {},
   "source": [
    "## 1. mnist softmax \n",
    "softmax : 입력에대한 출력값을 0~1로 표현. 출력값의 총합은 1"
   ]
  },
  {
   "cell_type": "code",
   "execution_count": 57,
   "metadata": {
    "ExecuteTime": {
     "end_time": "2020-10-19T09:06:01.754267Z",
     "start_time": "2020-10-19T09:06:01.726335Z"
    }
   },
   "outputs": [],
   "source": [
    "import tensorflow.compat.v1 as tf \n",
    "tf.disable_v2_behavior()\n",
    "import matplotlib.pyplot as plt\n",
    "import random"
   ]
  },
  {
   "cell_type": "code",
   "execution_count": 6,
   "metadata": {
    "ExecuteTime": {
     "end_time": "2020-10-19T05:13:44.553567Z",
     "start_time": "2020-10-19T05:13:44.543618Z"
    }
   },
   "outputs": [],
   "source": [
    "from tensorflow.examples.tutorials.mnist import input_data"
   ]
  },
  {
   "cell_type": "code",
   "execution_count": 7,
   "metadata": {
    "ExecuteTime": {
     "end_time": "2020-10-19T05:13:45.263320Z",
     "start_time": "2020-10-19T05:13:45.229411Z"
    }
   },
   "outputs": [],
   "source": [
    "tf.set_random_seed(777)"
   ]
  },
  {
   "cell_type": "code",
   "execution_count": 8,
   "metadata": {
    "ExecuteTime": {
     "end_time": "2020-10-19T05:14:18.109864Z",
     "start_time": "2020-10-19T05:14:08.274025Z"
    }
   },
   "outputs": [
    {
     "name": "stdout",
     "output_type": "stream",
     "text": [
      "Extracting MNIST_data/train-images-idx3-ubyte.gz\n",
      "Extracting MNIST_data/train-labels-idx1-ubyte.gz\n",
      "Extracting MNIST_data/t10k-images-idx3-ubyte.gz\n",
      "Extracting MNIST_data/t10k-labels-idx1-ubyte.gz\n"
     ]
    }
   ],
   "source": [
    "mnist = input_data.read_data_sets(\"MNIST_data/\", one_hot=True)"
   ]
  },
  {
   "cell_type": "code",
   "execution_count": 14,
   "metadata": {
    "ExecuteTime": {
     "end_time": "2020-10-19T06:13:06.214627Z",
     "start_time": "2020-10-19T06:13:06.187698Z"
    }
   },
   "outputs": [],
   "source": [
    "# input parameter\n",
    "X = tf.placeholder(tf.float32, [None, 784])\n",
    "Y = tf.placeholder(tf.float32, [None, 10])\n",
    "\n",
    "# weight & bias for nn layers\n",
    "# 784개의 vector / 10개의 label 0~9\n",
    "W = tf.Variable(tf.random_normal([784,10]))\n",
    "b = tf.Variable(tf.random_normal([10]))"
   ]
  },
  {
   "cell_type": "code",
   "execution_count": 15,
   "metadata": {
    "ExecuteTime": {
     "end_time": "2020-10-19T06:14:48.537315Z",
     "start_time": "2020-10-19T06:14:48.529317Z"
    }
   },
   "outputs": [],
   "source": [
    "# hyper parameter\n",
    "learning_rate = 0.001\n",
    "batch_size = 100\n",
    "num_epochs = 50\n",
    "num_iterations = int(mnist.train.num_examples / batch_size)\n",
    "\n",
    "hypothesis = tf.matmul(X,W) + b"
   ]
  },
  {
   "cell_type": "code",
   "execution_count": 16,
   "metadata": {
    "ExecuteTime": {
     "end_time": "2020-10-19T06:55:06.955878Z",
     "start_time": "2020-10-19T06:55:06.843182Z"
    }
   },
   "outputs": [],
   "source": [
    "# cost/loss 정의 \n",
    "cost = tf.reduce_mean(\n",
    "    tf.nn.softmax_cross_entropy_with_logits_v2(\n",
    "    logits=hypothesis, labels=tf.stop_gradient(Y)\n",
    "    )\n",
    ")\n",
    "\n",
    "# optimizer 정의 \n",
    "train = tf.train.AdamOptimizer(learning_rate=learning_rate).minimize(cost)"
   ]
  },
  {
   "cell_type": "code",
   "execution_count": 18,
   "metadata": {
    "ExecuteTime": {
     "end_time": "2020-10-19T06:56:17.455945Z",
     "start_time": "2020-10-19T06:56:17.441969Z"
    }
   },
   "outputs": [],
   "source": [
    "# 정확도 계산\n",
    "correct_prediction = tf.equal (tf.argmax(hypothesis, axis=1), tf.argmax(Y, axis=1))\n",
    "\n",
    "accuracy = tf.reduce_mean(tf.cast(correct_prediction, tf.float32))"
   ]
  },
  {
   "cell_type": "code",
   "execution_count": 23,
   "metadata": {
    "ExecuteTime": {
     "end_time": "2020-10-19T07:36:46.498085Z",
     "start_time": "2020-10-19T07:36:18.405234Z"
    }
   },
   "outputs": [
    {
     "name": "stdout",
     "output_type": "stream",
     "text": [
      "Epoch : 0001, Cost: 5.001816963\n",
      "Epoch : 0002, Cost: 1.658058841\n",
      "Epoch : 0003, Cost: 1.110753879\n",
      "Epoch : 0004, Cost: 0.886254073\n",
      "Epoch : 0005, Cost: 0.758260023\n",
      "Epoch : 0006, Cost: 0.674546873\n",
      "Epoch : 0007, Cost: 0.613410999\n",
      "Epoch : 0008, Cost: 0.568356522\n",
      "Epoch : 0009, Cost: 0.532773287\n",
      "Epoch : 0010, Cost: 0.503520328\n",
      "Epoch : 0011, Cost: 0.479934495\n",
      "Epoch : 0012, Cost: 0.459508651\n",
      "Epoch : 0013, Cost: 0.442006149\n",
      "Epoch : 0014, Cost: 0.426964147\n",
      "Epoch : 0015, Cost: 0.413709551\n",
      "Epoch : 0016, Cost: 0.401978964\n",
      "Epoch : 0017, Cost: 0.390872027\n",
      "Epoch : 0018, Cost: 0.381114322\n",
      "Epoch : 0019, Cost: 0.372538802\n",
      "Epoch : 0020, Cost: 0.363989159\n",
      "Epoch : 0021, Cost: 0.357027678\n",
      "Epoch : 0022, Cost: 0.350123646\n",
      "Epoch : 0023, Cost: 0.343839990\n",
      "Epoch : 0024, Cost: 0.337759883\n",
      "Epoch : 0025, Cost: 0.333415367\n",
      "Epoch : 0026, Cost: 0.327580340\n",
      "Epoch : 0027, Cost: 0.322610376\n",
      "Epoch : 0028, Cost: 0.318866933\n",
      "Epoch : 0029, Cost: 0.314787902\n",
      "Epoch : 0030, Cost: 0.311267480\n",
      "Epoch : 0031, Cost: 0.307280444\n",
      "Epoch : 0032, Cost: 0.304620736\n",
      "Epoch : 0033, Cost: 0.301052263\n",
      "Epoch : 0034, Cost: 0.298453066\n",
      "Epoch : 0035, Cost: 0.295494367\n",
      "Epoch : 0036, Cost: 0.292746503\n",
      "Epoch : 0037, Cost: 0.290393277\n",
      "Epoch : 0038, Cost: 0.288286983\n",
      "Epoch : 0039, Cost: 0.286075701\n",
      "Epoch : 0040, Cost: 0.284156245\n",
      "Epoch : 0041, Cost: 0.281758691\n",
      "Epoch : 0042, Cost: 0.280181415\n",
      "Epoch : 0043, Cost: 0.278166723\n",
      "Epoch : 0044, Cost: 0.276372941\n",
      "Epoch : 0045, Cost: 0.275059043\n",
      "Epoch : 0046, Cost: 0.272868512\n",
      "Epoch : 0047, Cost: 0.271471020\n",
      "Epoch : 0048, Cost: 0.270390163\n",
      "Epoch : 0049, Cost: 0.268574632\n",
      "Epoch : 0050, Cost: 0.267392397\n",
      "--- Learning Finished ---\n",
      "Accuracy: 0.9157\n",
      "Label:  [7]\n",
      "Prediction:  [9]\n"
     ]
    },
    {
     "data": {
      "image/png": "[encoded data removed]",
      "text/plain": [
       "<Figure size 432x288 with 1 Axes>"
      ]
     },
     "metadata": {
      "needs_background": "light"
     },
     "output_type": "display_data"
    }
   ],
   "source": [
    "with tf.Session() as sess:\n",
    "    sess.run(tf.global_variables_initializer())\n",
    "    \n",
    "    for epoch in range(num_epochs):\n",
    "        avg_cost = 0\n",
    "        \n",
    "        for iteration in range(num_iterations):\n",
    "            batch_xs, batch_ys = mnist.train.next_batch(batch_size)\n",
    "            _, cost_val = sess.run([train, cost], feed_dict={X: batch_xs, Y:batch_ys})\n",
    "            avg_cost += cost_val/ num_iterations\n",
    "            \n",
    "        print(f\"Epoch : {(epoch + 1):04d}, Cost: {avg_cost:.9f}\")\n",
    "        \n",
    "    print(\"--- Learning Finished ---\")\n",
    "    \n",
    "    print(\n",
    "        \"Accuracy:\",\n",
    "        sess.run(accuracy, feed_dict={X:mnist.test.images, Y:mnist.test.labels})        \n",
    "    )\n",
    "    \n",
    "    r = random.randint(0, mnist.test.num_examples -1)\n",
    "    \n",
    "    print(\"Label: \", sess.run(tf.argmax(mnist.test.labels[r: r+1], axis=1)))\n",
    "    \n",
    "    print(\n",
    "        \"Prediction: \",\n",
    "        sess.run(\n",
    "            tf.argmax(hypothesis, axis=1), feed_dict={X: mnist.test.images[r : r+1]}\n",
    "        )\n",
    "    )\n",
    "    \n",
    "    plt.imshow(\n",
    "        mnist.test.images[r: r+1].reshape(28,28),\n",
    "        cmap=\"Oranges\",\n",
    "        interpolation=\"nearest\",    \n",
    "    )\n",
    "    plt.show()    \n",
    "    "
   ]
  },
  {
   "cell_type": "markdown",
   "metadata": {},
   "source": [
    "## 2. mnist nn"
   ]
  },
  {
   "cell_type": "code",
   "execution_count": 43,
   "metadata": {
    "ExecuteTime": {
     "end_time": "2020-10-19T08:45:08.541286Z",
     "start_time": "2020-10-19T08:45:03.851064Z"
    }
   },
   "outputs": [
    {
     "name": "stdout",
     "output_type": "stream",
     "text": [
      "Extracting /MNIST_data\\train-images-idx3-ubyte.gz\n",
      "Extracting /MNIST_data\\train-labels-idx1-ubyte.gz\n",
      "Extracting /MNIST_data\\t10k-images-idx3-ubyte.gz\n",
      "Extracting /MNIST_data\\t10k-labels-idx1-ubyte.gz\n"
     ]
    }
   ],
   "source": [
    "# data 초기화 \n",
    "mnist = input_data.read_data_sets(\"/MNIST_data\", one_hot=True)"
   ]
  },
  {
   "cell_type": "code",
   "execution_count": 44,
   "metadata": {
    "ExecuteTime": {
     "end_time": "2020-10-19T08:45:15.078521Z",
     "start_time": "2020-10-19T08:45:15.061582Z"
    }
   },
   "outputs": [],
   "source": [
    "# hypter parameter\n",
    "learning_rate = 0.001\n",
    "training_epochs = 15\n",
    "batch_size = 100"
   ]
  },
  {
   "cell_type": "code",
   "execution_count": 50,
   "metadata": {
    "ExecuteTime": {
     "end_time": "2020-10-19T08:46:15.421046Z",
     "start_time": "2020-10-19T08:46:15.354375Z"
    }
   },
   "outputs": [],
   "source": [
    "X = tf.placeholder(tf.float32, [None, 784])\n",
    "Y = tf.placeholder(tf.float32, [None, 10])\n",
    "\n",
    "W1 = tf.Variable(tf.random_normal([784, 256]))\n",
    "b1 = tf.Variable(tf.random_normal([256]))\n",
    "L1 = tf.nn.relu(tf.matmul(X,W1) + b1)\n",
    "\n",
    "W2 = tf.Variable(tf.random_normal([256, 256]))\n",
    "b2 = tf.Variable(tf.random_normal([256]))\n",
    "L2 = tf.nn.relu(tf.matmul(L1,W2) + b2)\n",
    "\n",
    "W3 = tf.Variable(tf.random_normal([256, 10]))\n",
    "b3 = tf.Variable(tf.random_normal([10]))\n",
    "hypothesis = tf.matmul(L2,W3) + b3 # layer에만 relu 적용\n",
    "                        \n"
   ]
  },
  {
   "cell_type": "code",
   "execution_count": 51,
   "metadata": {
    "ExecuteTime": {
     "end_time": "2020-10-19T08:46:18.554020Z",
     "start_time": "2020-10-19T08:46:18.409123Z"
    }
   },
   "outputs": [],
   "source": [
    "cost = tf.reduce_mean(tf.nn.softmax_cross_entropy_with_logits_v2(\n",
    "                    logits=hypothesis, labels=Y\n",
    "                ))\n",
    "optimizer = tf.train.AdamOptimizer(learning_rate=learning_rate).minimize(cost)"
   ]
  },
  {
   "cell_type": "code",
   "execution_count": 52,
   "metadata": {
    "ExecuteTime": {
     "end_time": "2020-10-19T08:46:18.711673Z",
     "start_time": "2020-10-19T08:46:18.556018Z"
    }
   },
   "outputs": [],
   "source": [
    "# session 초기화 \n",
    "sess = tf.Session()\n",
    "sess.run(tf.global_variables_initializer())"
   ]
  },
  {
   "cell_type": "code",
   "execution_count": 53,
   "metadata": {
    "ExecuteTime": {
     "end_time": "2020-10-19T08:46:39.599663Z",
     "start_time": "2020-10-19T08:46:18.714665Z"
    }
   },
   "outputs": [
    {
     "name": "stdout",
     "output_type": "stream",
     "text": [
      "Epoch: 0001 cost= 163.683018490\n",
      "Epoch: 0002 cost= 42.887133364\n",
      "Epoch: 0003 cost= 26.381618609\n",
      "Epoch: 0004 cost= 18.451148392\n",
      "Epoch: 0005 cost= 13.261625925\n",
      "Epoch: 0006 cost= 9.802602739\n",
      "Epoch: 0007 cost= 7.213090912\n",
      "Epoch: 0008 cost= 5.282846326\n",
      "Epoch: 0009 cost= 3.914780312\n",
      "Epoch: 0010 cost= 2.877868259\n",
      "Epoch: 0011 cost= 2.213629507\n",
      "Epoch: 0012 cost= 1.660382162\n",
      "Epoch: 0013 cost= 1.275305442\n",
      "Epoch: 0014 cost= 0.987747790\n",
      "Epoch: 0015 cost= 0.820532801\n",
      "Learning Finished\n"
     ]
    }
   ],
   "source": [
    "for epoch in range(training_epochs):\n",
    "    avg_cost = 0\n",
    "    total_batch = int(mnist.train.num_examples / batch_size)\n",
    "    \n",
    "    for i in range(total_batch):\n",
    "        batch_xs, batch_ys = mnist.train.next_batch(batch_size)\n",
    "        feed_dict = {X: batch_xs, Y:batch_ys}\n",
    "        c, _ = sess.run([cost, optimizer], feed_dict=feed_dict)\n",
    "        \n",
    "        avg_cost += c/total_batch\n",
    "        \n",
    "    print('Epoch:', '%04d' %(epoch + 1), 'cost=', '{:.9f}'.format(avg_cost))\n",
    "    \n",
    "print('Learning Finished')"
   ]
  },
  {
   "cell_type": "markdown",
   "metadata": {},
   "source": [
    "- 15번 시도한 결과 cost는 예상대로 작아졌다. "
   ]
  },
  {
   "cell_type": "code",
   "execution_count": 54,
   "metadata": {
    "ExecuteTime": {
     "end_time": "2020-10-19T08:46:40.461085Z",
     "start_time": "2020-10-19T08:46:40.375338Z"
    }
   },
   "outputs": [
    {
     "name": "stdout",
     "output_type": "stream",
     "text": [
      "Accuracy: 0.9446\n"
     ]
    }
   ],
   "source": [
    "correct_prediction = tf.equal(tf.argmax(hypothesis, 1), tf.argmax(Y,1))\n",
    "accuracy = tf.reduce_mean(tf.cast(correct_prediction, tf.float32))\n",
    "\n",
    "print('Accuracy:', sess.run(accuracy, feed_dict={\n",
    "    X: mnist.test.images, Y: mnist.test.labels\n",
    "}))"
   ]
  },
  {
   "cell_type": "code",
   "execution_count": 55,
   "metadata": {
    "ExecuteTime": {
     "end_time": "2020-10-19T08:48:45.720170Z",
     "start_time": "2020-10-19T08:48:45.626443Z"
    }
   },
   "outputs": [
    {
     "name": "stdout",
     "output_type": "stream",
     "text": [
      "Label:  [9]\n",
      "Prediction:  [9]\n"
     ]
    }
   ],
   "source": [
    "# 예를 들어 하나만 예측하여 확인해보자.\n",
    "r = random.randint(0, mnist.test.num_examples -1)\n",
    "print(\"Label: \", sess.run(tf.argmax(mnist.test.labels[r:r+1], 1)))\n",
    "print(\"Prediction: \", sess.run(tf.argmax(hypothesis, 1), feed_dict={X: mnist.test.images[r:r+1]}))"
   ]
  },
  {
   "cell_type": "markdown",
   "metadata": {},
   "source": [
    "## 3. mnist nn xavier\n",
    "xavier : 초기화 함수\n",
    "사용법은 Weight마다 xavier로 initialize를 하면 된다. 간단하다 ."
   ]
  },
  {
   "cell_type": "code",
   "execution_count": null,
   "metadata": {},
   "outputs": [],
   "source": []
  },
  {
   "cell_type": "code",
   "execution_count": 60,
   "metadata": {
    "ExecuteTime": {
     "end_time": "2020-10-19T09:17:19.135685Z",
     "start_time": "2020-10-19T09:17:19.118703Z"
    }
   },
   "outputs": [],
   "source": [
    "# https://www.tensorflow.org/versions/r1.15/api_docs/python/tf/keras/initializers\n",
    "# tf.contrib.layers.xavier_initializer() -> class glorot_normal: The Glorot normal initializer, also called Xavier normal initializer.\n",
    "\n",
    "W1 = tf.get_variable(\"W1\", shape=[784, 256],\n",
    "                    initializer=tf.keras.initializers.glorot_normal())\n"
   ]
  },
  {
   "cell_type": "markdown",
   "metadata": {},
   "source": [
    "## 4. mnist nn deep"
   ]
  },
  {
   "cell_type": "code",
   "execution_count": null,
   "metadata": {},
   "outputs": [],
   "source": []
  },
  {
   "cell_type": "code",
   "execution_count": null,
   "metadata": {},
   "outputs": [],
   "source": []
  },
  {
   "cell_type": "markdown",
   "metadata": {},
   "source": [
    "## 5. mnist nn droput"
   ]
  },
  {
   "cell_type": "code",
   "execution_count": null,
   "metadata": {},
   "outputs": [],
   "source": []
  },
  {
   "cell_type": "markdown",
   "metadata": {},
   "source": [
    "# 심화\n",
    "## 6. mnist nn batchnorm\n",
    "## 7. mnist nn higher level API\n",
    "## 8. mnist nn sleu"
   ]
  },
  {
   "cell_type": "code",
   "execution_count": null,
   "metadata": {},
   "outputs": [],
   "source": []
  },
  {
   "cell_type": "code",
   "execution_count": null,
   "metadata": {},
   "outputs": [],
   "source": []
  },
  {
   "cell_type": "code",
   "execution_count": null,
   "metadata": {},
   "outputs": [],
   "source": []
  },
  {
   "cell_type": "code",
   "execution_count": null,
   "metadata": {},
   "outputs": [],
   "source": []
  },
  {
   "cell_type": "code",
   "execution_count": null,
   "metadata": {},
   "outputs": [],
   "source": []
  },
  {
   "cell_type": "code",
   "execution_count": null,
   "metadata": {},
   "outputs": [],
   "source": []
  },
  {
   "cell_type": "code",
   "execution_count": null,
   "metadata": {},
   "outputs": [],
   "source": []
  },
  {
   "cell_type": "code",
   "execution_count": null,
   "metadata": {},
   "outputs": [],
   "source": []
  },
  {
   "cell_type": "code",
   "execution_count": null,
   "metadata": {},
   "outputs": [],
   "source": []
  },
  {
   "cell_type": "code",
   "execution_count": null,
   "metadata": {},
   "outputs": [],
   "source": []
  },
  {
   "cell_type": "code",
   "execution_count": null,
   "metadata": {},
   "outputs": [],
   "source": []
  },
  {
   "cell_type": "code",
   "execution_count": null,
   "metadata": {},
   "outputs": [],
   "source": []
  },
  {
   "cell_type": "code",
   "execution_count": null,
   "metadata": {},
   "outputs": [],
   "source": []
  },
  {
   "cell_type": "code",
   "execution_count": null,
   "metadata": {},
   "outputs": [],
   "source": []
  }
 ],
 "metadata": {
  "hide_input": false,
  "kernelspec": {
   "display_name": "Python 3",
   "language": "python",
   "name": "python3"
  },
  "language_info": {
   "codemirror_mode": {
    "name": "ipython",
    "version": 3
   },
   "file_extension": ".py",
   "mimetype": "text/x-python",
   "name": "python",
   "nbconvert_exporter": "python",
   "pygments_lexer": "ipython3",
   "version": "3.7.9"
  },
  "toc": {
   "base_numbering": 1,
   "nav_menu": {},
   "number_sections": true,
   "sideBar": true,
   "skip_h1_title": false,
   "title_cell": "Table of Contents",
   "title_sidebar": "Contents",
   "toc_cell": false,
   "toc_position": {},
   "toc_section_display": true,
   "toc_window_display": false
  }
 },
 "nbformat": 4,
 "nbformat_minor": 4
}
