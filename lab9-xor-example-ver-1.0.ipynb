{
 "cells": [
  {
   "cell_type": "code",
   "execution_count": 7,
   "metadata": {
    "ExecuteTime": {
     "end_time": "2020-10-16T10:06:30.255007Z",
     "start_time": "2020-10-16T10:06:30.056504Z"
    }
   },
   "outputs": [
    {
     "name": "stdout",
     "output_type": "stream",
     "text": [
      "WARNING:tensorflow:From D:\\AnacondaDev\\lib\\site-packages\\tensorflow\\python\\compat\\v2_compat.py:96: disable_resource_variables (from tensorflow.python.ops.variable_scope) is deprecated and will be removed in a future version.\n",
      "Instructions for updating:\n",
      "non-resource variables are not supported in the long term\n"
     ]
    }
   ],
   "source": [
    "import tensorflow.compat.v1 as tf \n",
    "tf.disable_v2_behavior()\n",
    "import numpy as np"
   ]
  },
  {
   "cell_type": "code",
   "execution_count": 8,
   "metadata": {
    "ExecuteTime": {
     "end_time": "2020-10-16T10:06:31.449116Z",
     "start_time": "2020-10-16T10:06:31.426175Z"
    }
   },
   "outputs": [],
   "source": [
    "tf.set_random_seed(777)\n",
    "\n",
    "x_data=np.array([[0,0],[0,1],[1,0],[1,1]], dtype=np.float32)\n",
    "y_data=np.array([[0],[1],[1],[0]], dtype=np.float32)"
   ]
  },
  {
   "cell_type": "code",
   "execution_count": 9,
   "metadata": {
    "ExecuteTime": {
     "end_time": "2020-10-16T10:06:32.772078Z",
     "start_time": "2020-10-16T10:06:32.717148Z"
    }
   },
   "outputs": [],
   "source": [
    "# 변수 선언\n",
    "X = tf.placeholder(tf.float32, [None,2]) # x1, x2 \n",
    "Y = tf.placeholder(tf.float32, [None,1]) # y\n",
    "W = tf.Variable(tf.random_normal([2,1]), name =\"weight\") # x변수 2개, y변수 1개\n",
    "b = tf.Variable(tf.random_normal([1]), name = \"bias\")"
   ]
  },
  {
   "cell_type": "code",
   "execution_count": 11,
   "metadata": {
    "ExecuteTime": {
     "end_time": "2020-10-16T10:10:37.639792Z",
     "start_time": "2020-10-16T10:10:37.575615Z"
    }
   },
   "outputs": [],
   "source": [
    "# logistic regression\n",
    "hypothesis = tf.sigmoid(tf.matmul(X,W) + b)\n",
    "\n",
    "# cost/loss function\n",
    "cost = -tf.reduce_mean( Y * tf.log(hypothesis) + (1-Y)*tf.log(1-hypothesis))\n",
    "train = tf.train.GradientDescentOptimizer(learning_rate=0.1).minimize(cost)\n",
    "\n",
    "# Accuracy computation \n",
    "# 만약 hypotesis 결과가 0.5 이상이면 False\n",
    "predicted = tf.cast(hypothesis > 0.5, dtype=tf.float32)\n",
    "accuracy = tf.reduce_mean(tf.cast(tf.equal(predicted, Y), dtype=tf.float32))"
   ]
  },
  {
   "cell_type": "code",
   "execution_count": 12,
   "metadata": {
    "ExecuteTime": {
     "end_time": "2020-10-16T10:24:46.082156Z",
     "start_time": "2020-10-16T10:24:41.279585Z"
    }
   },
   "outputs": [
    {
     "name": "stdout",
     "output_type": "stream",
     "text": [
      "0 0.7506171 [[0.5892397]\n",
      " [0.5601938]]\n",
      "100 0.7096913 [[0.5027686 ]\n",
      " [0.48710346]]\n",
      "200 0.7008234 [[0.34249264]\n",
      " [0.33411568]]\n",
      "300 0.6966752 [[0.231335  ]\n",
      " [0.22685793]]\n",
      "400 0.6947609 [[0.15605202]\n",
      " [0.15365984]]\n",
      "500 0.6938837 [[0.10523036]\n",
      " [0.10395233]]\n",
      "600 0.693483 [[0.07095812]\n",
      " [0.07027531]]\n",
      "700 0.69330025 [[0.04785274]\n",
      " [0.04748793]]\n",
      "800 0.6932169 [[0.03227522]\n",
      " [0.03208035]]\n",
      "900 0.693179 [[0.02177152]\n",
      " [0.02166742]]\n",
      "1000 0.69316167 [[0.01468785]\n",
      " [0.01463225]]\n",
      "1100 0.69315374 [[0.00990992]\n",
      " [0.00988021]]\n",
      "1200 0.69315016 [[0.00668677]\n",
      " [0.0066709 ]]\n",
      "1300 0.6931485 [[0.00451221]\n",
      " [0.00450375]]\n",
      "1400 0.6931478 [[0.00304499]\n",
      " [0.00304046]]\n",
      "1500 0.6931474 [[0.00205493]\n",
      " [0.00205252]]\n",
      "1600 0.6931473 [[0.00138685]\n",
      " [0.00138556]]\n",
      "1700 0.6931473 [[0.000936  ]\n",
      " [0.00093532]]\n",
      "1800 0.6931472 [[0.00063167]\n",
      " [0.00063131]]\n",
      "1900 0.6931472 [[0.0004264]\n",
      " [0.0004262]]\n",
      "2000 0.6931472 [[0.00028778]\n",
      " [0.00028767]]\n",
      "2100 0.6931472 [[0.00019421]\n",
      " [0.00019416]]\n",
      "2200 0.6931472 [[0.00013108]\n",
      " [0.00013106]]\n",
      "2300 0.6931472 [[8.847597e-05]\n",
      " [8.846160e-05]]\n",
      "2400 0.6931472 [[5.9718208e-05]\n",
      " [5.9709804e-05]]\n",
      "2500 0.6931472 [[4.0303483e-05]\n",
      " [4.0301038e-05]]\n",
      "2600 0.6931472 [[2.7205364e-05]\n",
      " [2.7204407e-05]]\n",
      "2700 0.6931472 [[1.8357057e-05]\n",
      " [1.8356101e-05]]\n",
      "2800 0.6931472 [[1.23891405e-05]\n",
      " [1.23881837e-05]]\n",
      "2900 0.6931472 [[8.361359e-06]\n",
      " [8.360402e-06]]\n",
      "3000 0.6931472 [[5.6389181e-06]\n",
      " [5.6379613e-06]]\n",
      "3100 0.6931472 [[3.8179933e-06]\n",
      " [3.8170365e-06]]\n",
      "3200 0.6931472 [[2.5648080e-06]\n",
      " [2.5638512e-06]]\n",
      "3300 0.69314724 [[1.7526912e-06]\n",
      " [1.7517344e-06]]\n",
      "3400 0.6931472 [[1.1849543e-06]\n",
      " [1.1839975e-06]]\n",
      "3500 0.6931472 [[7.9007140e-07]\n",
      " [7.8911467e-07]]\n",
      "3600 0.6931472 [[5.1886985e-07]\n",
      " [5.1791312e-07]]\n",
      "3700 0.6931472 [[3.6985847e-07]\n",
      " [3.6890171e-07]]\n",
      "3800 0.6931471 [[2.3723763e-07]\n",
      " [2.3628087e-07]]\n",
      "3900 0.6931472 [[1.7316239e-07]\n",
      " [1.7220563e-07]]\n",
      "4000 0.6931472 [[1.4783032e-07]\n",
      " [1.4687356e-07]]\n",
      "4100 0.6931472 [[1.4783032e-07]\n",
      " [1.4687356e-07]]\n",
      "4200 0.6931472 [[1.4783032e-07]\n",
      " [1.4687356e-07]]\n",
      "4300 0.6931472 [[1.4783032e-07]\n",
      " [1.4687356e-07]]\n",
      "4400 0.6931472 [[1.4783032e-07]\n",
      " [1.4687356e-07]]\n",
      "4500 0.6931472 [[1.4783032e-07]\n",
      " [1.4687356e-07]]\n",
      "4600 0.6931472 [[1.4783032e-07]\n",
      " [1.4687356e-07]]\n",
      "4700 0.6931472 [[1.4783032e-07]\n",
      " [1.4687356e-07]]\n",
      "4800 0.6931472 [[1.4783032e-07]\n",
      " [1.4687356e-07]]\n",
      "4900 0.6931472 [[1.4783032e-07]\n",
      " [1.4687356e-07]]\n",
      "5000 0.6931472 [[1.4783032e-07]\n",
      " [1.4687356e-07]]\n",
      "5100 0.6931472 [[1.4783032e-07]\n",
      " [1.4687356e-07]]\n",
      "5200 0.6931472 [[1.4783032e-07]\n",
      " [1.4687356e-07]]\n",
      "5300 0.6931472 [[1.4783032e-07]\n",
      " [1.4687356e-07]]\n",
      "5400 0.6931472 [[1.4783032e-07]\n",
      " [1.4687356e-07]]\n",
      "5500 0.6931472 [[1.4783032e-07]\n",
      " [1.4687356e-07]]\n",
      "5600 0.6931472 [[1.4783032e-07]\n",
      " [1.4687356e-07]]\n",
      "5700 0.6931472 [[1.4783032e-07]\n",
      " [1.4687356e-07]]\n",
      "5800 0.6931472 [[1.4783032e-07]\n",
      " [1.4687356e-07]]\n",
      "5900 0.6931472 [[1.4783032e-07]\n",
      " [1.4687356e-07]]\n",
      "6000 0.6931472 [[1.4783032e-07]\n",
      " [1.4687356e-07]]\n",
      "6100 0.6931472 [[1.4783032e-07]\n",
      " [1.4687356e-07]]\n",
      "6200 0.6931472 [[1.4783032e-07]\n",
      " [1.4687356e-07]]\n",
      "6300 0.6931472 [[1.4783032e-07]\n",
      " [1.4687356e-07]]\n",
      "6400 0.6931472 [[1.4783032e-07]\n",
      " [1.4687356e-07]]\n",
      "6500 0.6931472 [[1.4783032e-07]\n",
      " [1.4687356e-07]]\n",
      "6600 0.6931472 [[1.4783032e-07]\n",
      " [1.4687356e-07]]\n",
      "6700 0.6931472 [[1.4783032e-07]\n",
      " [1.4687356e-07]]\n",
      "6800 0.6931472 [[1.4783032e-07]\n",
      " [1.4687356e-07]]\n",
      "6900 0.6931472 [[1.4783032e-07]\n",
      " [1.4687356e-07]]\n",
      "7000 0.6931472 [[1.4783032e-07]\n",
      " [1.4687356e-07]]\n",
      "7100 0.6931472 [[1.4783032e-07]\n",
      " [1.4687356e-07]]\n",
      "7200 0.6931472 [[1.4783032e-07]\n",
      " [1.4687356e-07]]\n",
      "7300 0.6931472 [[1.4783032e-07]\n",
      " [1.4687356e-07]]\n",
      "7400 0.6931472 [[1.4783032e-07]\n",
      " [1.4687356e-07]]\n",
      "7500 0.6931472 [[1.4783032e-07]\n",
      " [1.4687356e-07]]\n",
      "7600 0.6931472 [[1.4783032e-07]\n",
      " [1.4687356e-07]]\n",
      "7700 0.6931472 [[1.4783032e-07]\n",
      " [1.4687356e-07]]\n",
      "7800 0.6931472 [[1.4783032e-07]\n",
      " [1.4687356e-07]]\n",
      "7900 0.6931472 [[1.4783032e-07]\n",
      " [1.4687356e-07]]\n",
      "8000 0.6931472 [[1.4783032e-07]\n",
      " [1.4687356e-07]]\n",
      "8100 0.6931472 [[1.4783032e-07]\n",
      " [1.4687356e-07]]\n",
      "8200 0.6931472 [[1.4783032e-07]\n",
      " [1.4687356e-07]]\n",
      "8300 0.6931472 [[1.4783032e-07]\n",
      " [1.4687356e-07]]\n",
      "8400 0.6931472 [[1.4783032e-07]\n",
      " [1.4687356e-07]]\n",
      "8500 0.6931472 [[1.4783032e-07]\n",
      " [1.4687356e-07]]\n",
      "8600 0.6931472 [[1.4783032e-07]\n",
      " [1.4687356e-07]]\n",
      "8700 0.6931472 [[1.4783032e-07]\n",
      " [1.4687356e-07]]\n",
      "8800 0.6931472 [[1.4783032e-07]\n",
      " [1.4687356e-07]]\n",
      "8900 0.6931472 [[1.4783032e-07]\n",
      " [1.4687356e-07]]\n",
      "9000 0.6931472 [[1.4783032e-07]\n",
      " [1.4687356e-07]]\n",
      "9100 0.6931472 [[1.4783032e-07]\n",
      " [1.4687356e-07]]\n",
      "9200 0.6931472 [[1.4783032e-07]\n",
      " [1.4687356e-07]]\n",
      "9300 0.6931472 [[1.4783032e-07]\n",
      " [1.4687356e-07]]\n",
      "9400 0.6931472 [[1.4783032e-07]\n",
      " [1.4687356e-07]]\n",
      "9500 0.6931472 [[1.4783032e-07]\n",
      " [1.4687356e-07]]\n",
      "9600 0.6931472 [[1.4783032e-07]\n",
      " [1.4687356e-07]]\n",
      "9700 0.6931472 [[1.4783032e-07]\n",
      " [1.4687356e-07]]\n",
      "9800 0.6931472 [[1.4783032e-07]\n",
      " [1.4687356e-07]]\n",
      "9900 0.6931472 [[1.4783032e-07]\n",
      " [1.4687356e-07]]\n",
      "10000 0.6931472 [[1.4783032e-07]\n",
      " [1.4687356e-07]]\n",
      "\n",
      "Hypotesis:  [[0.49999997]\n",
      " [0.5       ]\n",
      " [0.5       ]\n",
      " [0.5       ]] \n",
      "Correct:  [[0.]\n",
      " [0.]\n",
      " [0.]\n",
      " [0.]] \n",
      "Accuracy:  0.5\n"
     ]
    }
   ],
   "source": [
    "# 그래프 실행\n",
    "with tf.Session() as sess:\n",
    "    sess.run(tf.global_variables_initializer())\n",
    "    \n",
    "    for step in range(10001):\n",
    "        _, cost_val, w_val = sess.run(\n",
    "            [train, cost, W] , feed_dict={X:x_data, Y:y_data}\n",
    "        )\n",
    "        if step % 100 == 0:\n",
    "            print(step, cost_val, w_val)\n",
    "            \n",
    "    h, c, a = sess.run(\n",
    "        [hypothesis, predicted, accuracy], feed_dict={X:x_data, Y: y_data}\n",
    "    )\n",
    "    \n",
    "    print(\"\\nHypotesis: \", h, \"\\nCorrect: \", c, \"\\nAccuracy: \", a )"
   ]
  },
  {
   "cell_type": "markdown",
   "metadata": {},
   "source": [
    "위의 regressor으로는 xor 문제가 해결이 안된다. 그래서 나온 개념이 `deep learning`. layer를 늘려서 모델을 구축해보자."
   ]
  },
  {
   "cell_type": "markdown",
   "metadata": {},
   "source": [
    "xor nn(nueral network) 적용"
   ]
  },
  {
   "cell_type": "code",
   "execution_count": null,
   "metadata": {},
   "outputs": [],
   "source": [
    "tf.set_random_seed(777)\n",
    "\n",
    "# datset\n",
    "x_data=np.array([[0,0],[0,1],[1,0],[1,1]], dtype=np.float32)\n",
    "y_data=np.array([[0],[1],[1],[0]], dtype=np.float32)"
   ]
  },
  {
   "cell_type": "code",
   "execution_count": 13,
   "metadata": {
    "ExecuteTime": {
     "end_time": "2020-10-16T10:33:44.923076Z",
     "start_time": "2020-10-16T10:33:44.811375Z"
    }
   },
   "outputs": [],
   "source": [
    "# 변수 생성\n",
    "X = tf.placeholder(tf.float32, [None, 2])\n",
    "Y = tf.placeholder(tf.float32, [None, 1])\n",
    "\n",
    "W1 = tf.Variable(tf.random_normal([2,2]), name ='weight1')\n",
    "b1 = tf.Variable(tf.random_normal([2]), name = 'bias1') #? b1왜 2?\n",
    "\n",
    "layer1 = tf.sigmoid(tf.matmul(X, W1) + b1)\n",
    "\n",
    "W2 = tf.Variable(tf.random_normal([2,1]), name ='weight1')\n",
    "b2 = tf.Variable(tf.random_normal([1]), name = 'bias1') #? b1왜 2?\n",
    "\n",
    "# 모델 구축\n",
    "hypothesis = tf.sigmoid(tf.matmul(layer1, W2) + b2)\n",
    "\n",
    "# cost/loss 함수\n",
    "cost = -tf.reduce_mean(Y * tf.log(hypothesis)+(1-Y) * tf.log(1-hypothesis))\n",
    "train = tf.train.GradientDescentOptimizer(learning_rate=0.1).minimize(cost)\n",
    "\n",
    "# 예측값, 정확도\n",
    "predicted = tf.cast(hypothesis > 0.5, dtype=tf.float32)\n",
    "accuracy = tf.reduce_mean(tf.cast(tf.equal(predicted, Y), dtype=tf.float32))"
   ]
  },
  {
   "cell_type": "code",
   "execution_count": 18,
   "metadata": {
    "ExecuteTime": {
     "end_time": "2020-10-16T10:37:53.570532Z",
     "start_time": "2020-10-16T10:37:49.137024Z"
    }
   },
   "outputs": [
    {
     "name": "stdout",
     "output_type": "stream",
     "text": [
      "0 0.6943808\n",
      "1000 0.624394\n",
      "2000 0.21722414\n",
      "3000 0.08289158\n",
      "4000 0.047588255\n",
      "5000 0.03274015\n",
      "6000 0.024765182\n",
      "7000 0.019839302\n",
      "8000 0.01651223\n",
      "9000 0.014121745\n",
      "10000 0.012324711\n",
      "\n",
      "Hypothesis :\n",
      "[[0.01195052]\n",
      " [0.9890093 ]\n",
      " [0.98410153]\n",
      " [0.01014063]] \n",
      "Predicted:\n",
      "[[0.]\n",
      " [1.]\n",
      " [1.]\n",
      " [0.]] \n",
      "Accuracy:\n",
      "1.0\n"
     ]
    }
   ],
   "source": [
    "with tf.Session() as sess:\n",
    "    sess.run(tf.global_variables_initializer())\n",
    "    \n",
    "    for step in range(10001):\n",
    "        _, cost_val = sess.run([train, cost], feed_dict={X:x_data, Y:y_data})\n",
    "        if step % 1000 == 0:\n",
    "            print(step, cost_val)\n",
    "    h, p, a = sess.run(\n",
    "        [hypothesis, predicted, accuracy], feed_dict={X:x_data, Y:y_data}\n",
    "    )\n",
    "    print(f\"\\nHypothesis :\\n{h} \\nPredicted:\\n{p} \\nAccuracy:\\n{a}\")"
   ]
  },
  {
   "cell_type": "markdown",
   "metadata": {},
   "source": [
    "- layer를 늘리면 예상하던 대로 10000번의 시도 결과, cost는 점점 작아지고, 정확도는 높아졌다.\n",
    "\n",
    "- 이젠 layer를 더 많이 늘리면 어떻게 되는지 알아보자."
   ]
  },
  {
   "cell_type": "code",
   "execution_count": 21,
   "metadata": {
    "ExecuteTime": {
     "end_time": "2020-10-16T10:44:51.404575Z",
     "start_time": "2020-10-16T10:44:51.347726Z"
    }
   },
   "outputs": [],
   "source": [
    "# 변수 생성 : W, b, layer\n",
    "W1 = tf.Variable(tf.random_normal([2,10]), name = 'weight1')\n",
    "b1 = tf.Variable(tf.random_normal([10]), name = 'bias1')\n",
    "layer1 = tf.sigmoid(tf.matmul(X,W1) + b1)\n",
    "\n",
    "W2 = tf.Variable(tf.random_normal([10,10]), name = 'weight2')\n",
    "b2 = tf.Variable(tf.random_normal([10]), name = 'bias2')\n",
    "layer2 = tf.sigmoid(tf.matmul(layer1,W2) + b2)\n",
    "\n",
    "W3 = tf.Variable(tf.random_normal([10,10]), name = 'weight3')\n",
    "b3 = tf.Variable(tf.random_normal([10]), name = 'bias3')\n",
    "layer3 = tf.sigmoid(tf.matmul(layer2,W3) + b3)\n",
    "\n",
    "W4 = tf.Variable(tf.random_normal([10,1]), name = 'weight4')\n",
    "b4 = tf.Variable(tf.random_normal([1]), name = 'bias4')\n",
    "\n",
    "# 가설 \n",
    "hypothesis = tf.sigmoid(tf.matmul(layer3, W4)+b4)"
   ]
  },
  {
   "cell_type": "code",
   "execution_count": 23,
   "metadata": {
    "ExecuteTime": {
     "end_time": "2020-10-16T10:48:42.677871Z",
     "start_time": "2020-10-16T10:48:42.561184Z"
    }
   },
   "outputs": [],
   "source": [
    "# cost/loss 함수\n",
    "cost = -tf.reduce_mean(Y * tf.log(hypothesis) + (1-Y)*tf.log(1-hypothesis))\n",
    "train = tf.train.GradientDescentOptimizer(learning_rate=0.1).minimize(cost)\n",
    "\n",
    "# 예측값,정확도\n",
    "predicted = tf.cast(hypothesis>0.5, dtype=tf.float32)\n",
    "accuracy = tf.reduce_mean(tf.cast(tf.equal(predicted, Y), dtype=tf.float32))"
   ]
  },
  {
   "cell_type": "code",
   "execution_count": 24,
   "metadata": {
    "ExecuteTime": {
     "end_time": "2020-10-16T10:49:04.654750Z",
     "start_time": "2020-10-16T10:48:59.441126Z"
    }
   },
   "outputs": [
    {
     "name": "stdout",
     "output_type": "stream",
     "text": [
      "0 1.1099052\n",
      "1000 0.53118896\n",
      "2000 0.046242997\n",
      "3000 0.014703564\n",
      "4000 0.008102539\n",
      "5000 0.005451985\n",
      "6000 0.004057234\n",
      "7000 0.0032070503\n",
      "8000 0.0026386217\n",
      "9000 0.002233629\n",
      "10000 0.001931418\n",
      "\n",
      "Hypothesis :\n",
      "[[0.00204578]\n",
      " [0.99882996]\n",
      " [0.99703944]\n",
      " [0.0015398 ]] \n",
      "Predicted:\n",
      "[[0.]\n",
      " [1.]\n",
      " [1.]\n",
      " [0.]] \n",
      "Accuracy:\n",
      "1.0\n"
     ]
    }
   ],
   "source": [
    "# 모델 실행\n",
    "with tf.Session() as sess:\n",
    "    sess.run(tf.global_variables_initializer())\n",
    "    \n",
    "    for step in range(10001):\n",
    "        _, cost_val = sess.run([train, cost], feed_dict={X:x_data, Y:y_data})\n",
    "        if step % 1000 == 0:\n",
    "            print(step, cost_val)\n",
    "    h, p, a = sess.run(\n",
    "        [hypothesis, predicted, accuracy], feed_dict={X:x_data, Y:y_data}\n",
    "    )\n",
    "    print(f\"\\nHypothesis :\\n{h} \\nPredicted:\\n{p} \\nAccuracy:\\n{a}\")"
   ]
  },
  {
   "cell_type": "markdown",
   "metadata": {},
   "source": [
    "- layer를 더 쌓을 수록 error가 작아진다."
   ]
  },
  {
   "cell_type": "code",
   "execution_count": 26,
   "metadata": {
    "ExecuteTime": {
     "end_time": "2020-10-16T10:54:28.249187Z",
     "start_time": "2020-10-16T10:54:28.209277Z"
    }
   },
   "outputs": [],
   "source": [
    "X = tf.placeholder(tf.float32, [None, 2], name='x')\n",
    "Y = tf.placeholder(tf.float32, [None, 1], name='y')\n",
    "\n",
    "with tf.name_scope(\"Layer1\"):\n",
    "    W1 = tf.Variable(tf.random_normal([2,2]), name=\"weight_1\")\n",
    "    b1 = tf.Variable(tf.random_normal([2]), name=\"bias_1\")\n",
    "    layer1 = tf.sigmoid(tf.matmul(X, W1) + b1)\n",
    "    \n",
    "    tf.summary.histogram(\"W1\", W1)\n",
    "    tf.summary.histogram(\"b1\", b1)\n",
    "    tf.summary.histogram(\"Layer1\", layer1)\n",
    "    \n",
    "with tf.name_scope(\"Layer2\"):\n",
    "    W2 = tf.Variable(tf.random_normal([2,1]), name=\"weight_2\")\n",
    "    b2 = tf.Variable(tf.random_normal([1]), name=\"bias_2\")\n",
    "    layer1 = tf.sigmoid(tf.matmul(layer1, W2) + b2)\n",
    "    \n",
    "    tf.summary.histogram(\"W2\", W2)\n",
    "    tf.summary.histogram(\"b2\", b2)\n",
    "    tf.summary.histogram(\"Hypothesis\", hypothesis)    \n",
    "    "
   ]
  },
  {
   "cell_type": "code",
   "execution_count": 29,
   "metadata": {
    "ExecuteTime": {
     "end_time": "2020-10-16T10:56:30.026253Z",
     "start_time": "2020-10-16T10:56:29.832772Z"
    }
   },
   "outputs": [],
   "source": [
    "with tf.name_scope(\"Cost\"):\n",
    "    cost = -tf.reduce_mean(Y * tf.log(hypothesis) + (1-Y) * tf.log(1 - hypothesis))\n",
    "    tf.summary.scalar(\"Cost\", cost)\n",
    "    \n",
    "with tf.name_scope(\"Train\"):\n",
    "    train = tf.train.AdamOptimizer(learning_rate=0.01).minimize(cost)    "
   ]
  },
  {
   "cell_type": "code",
   "execution_count": 30,
   "metadata": {
    "ExecuteTime": {
     "end_time": "2020-10-16T10:57:48.606426Z",
     "start_time": "2020-10-16T10:57:48.583487Z"
    }
   },
   "outputs": [
    {
     "data": {
      "text/plain": [
       "<tf.Tensor 'accuracy:0' shape=() dtype=string>"
      ]
     },
     "execution_count": 30,
     "metadata": {},
     "output_type": "execute_result"
    }
   ],
   "source": [
    "predicted = tf.cast(hypothesis > 0.5, dtype=tf.float32)\n",
    "accuracy = tf.reduce_mean(tf.cast(tf.equal(predicted, Y), dtype=tf.float32))\n",
    "tf.summary.scalar(\"accuracy\", accuracy)"
   ]
  },
  {
   "cell_type": "code",
   "execution_count": 31,
   "metadata": {
    "ExecuteTime": {
     "end_time": "2020-10-16T10:58:55.647815Z",
     "start_time": "2020-10-16T10:58:55.261731Z"
    }
   },
   "outputs": [
    {
     "ename": "InvalidArgumentError",
     "evalue": "You must feed a value for placeholder tensor 'Placeholder_2' with dtype float and shape [?,2]\n\t [[node Placeholder_2 (defined at <ipython-input-13-2a045ce50dee>:2) ]]\n\nOriginal stack trace for 'Placeholder_2':\n  File \"D:\\AnacondaDev\\lib\\runpy.py\", line 193, in _run_module_as_main\n    \"__main__\", mod_spec)\n  File \"D:\\AnacondaDev\\lib\\runpy.py\", line 85, in _run_code\n    exec(code, run_globals)\n  File \"D:\\AnacondaDev\\lib\\site-packages\\ipykernel_launcher.py\", line 16, in <module>\n    app.launch_new_instance()\n  File \"D:\\AnacondaDev\\lib\\site-packages\\traitlets\\config\\application.py\", line 664, in launch_instance\n    app.start()\n  File \"D:\\AnacondaDev\\lib\\site-packages\\ipykernel\\kernelapp.py\", line 612, in start\n    self.io_loop.start()\n  File \"D:\\AnacondaDev\\lib\\site-packages\\tornado\\platform\\asyncio.py\", line 149, in start\n    self.asyncio_loop.run_forever()\n  File \"D:\\AnacondaDev\\lib\\asyncio\\base_events.py\", line 541, in run_forever\n    self._run_once()\n  File \"D:\\AnacondaDev\\lib\\asyncio\\base_events.py\", line 1786, in _run_once\n    handle._run()\n  File \"D:\\AnacondaDev\\lib\\asyncio\\events.py\", line 88, in _run\n    self._context.run(self._callback, *self._args)\n  File \"D:\\AnacondaDev\\lib\\site-packages\\tornado\\ioloop.py\", line 690, in <lambda>\n    lambda f: self._run_callback(functools.partial(callback, future))\n  File \"D:\\AnacondaDev\\lib\\site-packages\\tornado\\ioloop.py\", line 743, in _run_callback\n    ret = callback()\n  File \"D:\\AnacondaDev\\lib\\site-packages\\tornado\\gen.py\", line 787, in inner\n    self.run()\n  File \"D:\\AnacondaDev\\lib\\site-packages\\tornado\\gen.py\", line 748, in run\n    yielded = self.gen.send(value)\n  File \"D:\\AnacondaDev\\lib\\site-packages\\ipykernel\\kernelbase.py\", line 365, in process_one\n    yield gen.maybe_future(dispatch(*args))\n  File \"D:\\AnacondaDev\\lib\\site-packages\\tornado\\gen.py\", line 209, in wrapper\n    yielded = next(result)\n  File \"D:\\AnacondaDev\\lib\\site-packages\\ipykernel\\kernelbase.py\", line 268, in dispatch_shell\n    yield gen.maybe_future(handler(stream, idents, msg))\n  File \"D:\\AnacondaDev\\lib\\site-packages\\tornado\\gen.py\", line 209, in wrapper\n    yielded = next(result)\n  File \"D:\\AnacondaDev\\lib\\site-packages\\ipykernel\\kernelbase.py\", line 545, in execute_request\n    user_expressions, allow_stdin,\n  File \"D:\\AnacondaDev\\lib\\site-packages\\tornado\\gen.py\", line 209, in wrapper\n    yielded = next(result)\n  File \"D:\\AnacondaDev\\lib\\site-packages\\ipykernel\\ipkernel.py\", line 306, in do_execute\n    res = shell.run_cell(code, store_history=store_history, silent=silent)\n  File \"D:\\AnacondaDev\\lib\\site-packages\\ipykernel\\zmqshell.py\", line 536, in run_cell\n    return super(ZMQInteractiveShell, self).run_cell(*args, **kwargs)\n  File \"D:\\AnacondaDev\\lib\\site-packages\\IPython\\core\\interactiveshell.py\", line 2877, in run_cell\n    raw_cell, store_history, silent, shell_futures)\n  File \"D:\\AnacondaDev\\lib\\site-packages\\IPython\\core\\interactiveshell.py\", line 2922, in _run_cell\n    return runner(coro)\n  File \"D:\\AnacondaDev\\lib\\site-packages\\IPython\\core\\async_helpers.py\", line 68, in _pseudo_sync_runner\n    coro.send(None)\n  File \"D:\\AnacondaDev\\lib\\site-packages\\IPython\\core\\interactiveshell.py\", line 3146, in run_cell_async\n    interactivity=interactivity, compiler=compiler, result=result)\n  File \"D:\\AnacondaDev\\lib\\site-packages\\IPython\\core\\interactiveshell.py\", line 3337, in run_ast_nodes\n    if (await self.run_code(code, result,  async_=asy)):\n  File \"D:\\AnacondaDev\\lib\\site-packages\\IPython\\core\\interactiveshell.py\", line 3417, in run_code\n    exec(code_obj, self.user_global_ns, self.user_ns)\n  File \"<ipython-input-13-2a045ce50dee>\", line 2, in <module>\n    X = tf.placeholder(tf.float32, [None, 2])\n  File \"D:\\AnacondaDev\\lib\\site-packages\\tensorflow\\python\\ops\\array_ops.py\", line 3100, in placeholder\n    return gen_array_ops.placeholder(dtype=dtype, shape=shape, name=name)\n  File \"D:\\AnacondaDev\\lib\\site-packages\\tensorflow\\python\\ops\\gen_array_ops.py\", line 6809, in placeholder\n    \"Placeholder\", dtype=dtype, shape=shape, name=name)\n  File \"D:\\AnacondaDev\\lib\\site-packages\\tensorflow\\python\\framework\\op_def_library.py\", line 744, in _apply_op_helper\n    attrs=attr_protos, op_def=op_def)\n  File \"D:\\AnacondaDev\\lib\\site-packages\\tensorflow\\python\\framework\\ops.py\", line 3485, in _create_op_internal\n    op_def=op_def)\n  File \"D:\\AnacondaDev\\lib\\site-packages\\tensorflow\\python\\framework\\ops.py\", line 1949, in __init__\n    self._traceback = tf_stack.extract_stack()\n",
     "output_type": "error",
     "traceback": [
      "\u001b[1;31m---------------------------------------------------------------------------\u001b[0m",
      "\u001b[1;31mInvalidArgumentError\u001b[0m                      Traceback (most recent call last)",
      "\u001b[1;32mD:\\AnacondaDev\\lib\\site-packages\\tensorflow\\python\\client\\session.py\u001b[0m in \u001b[0;36m_do_call\u001b[1;34m(self, fn, *args)\u001b[0m\n\u001b[0;32m   1364\u001b[0m     \u001b[1;32mtry\u001b[0m\u001b[1;33m:\u001b[0m\u001b[1;33m\u001b[0m\u001b[1;33m\u001b[0m\u001b[0m\n\u001b[1;32m-> 1365\u001b[1;33m       \u001b[1;32mreturn\u001b[0m \u001b[0mfn\u001b[0m\u001b[1;33m(\u001b[0m\u001b[1;33m*\u001b[0m\u001b[0margs\u001b[0m\u001b[1;33m)\u001b[0m\u001b[1;33m\u001b[0m\u001b[1;33m\u001b[0m\u001b[0m\n\u001b[0m\u001b[0;32m   1366\u001b[0m     \u001b[1;32mexcept\u001b[0m \u001b[0merrors\u001b[0m\u001b[1;33m.\u001b[0m\u001b[0mOpError\u001b[0m \u001b[1;32mas\u001b[0m \u001b[0me\u001b[0m\u001b[1;33m:\u001b[0m\u001b[1;33m\u001b[0m\u001b[1;33m\u001b[0m\u001b[0m\n",
      "\u001b[1;32mD:\\AnacondaDev\\lib\\site-packages\\tensorflow\\python\\client\\session.py\u001b[0m in \u001b[0;36m_run_fn\u001b[1;34m(feed_dict, fetch_list, target_list, options, run_metadata)\u001b[0m\n\u001b[0;32m   1349\u001b[0m       return self._call_tf_sessionrun(options, feed_dict, fetch_list,\n\u001b[1;32m-> 1350\u001b[1;33m                                       target_list, run_metadata)\n\u001b[0m\u001b[0;32m   1351\u001b[0m \u001b[1;33m\u001b[0m\u001b[0m\n",
      "\u001b[1;32mD:\\AnacondaDev\\lib\\site-packages\\tensorflow\\python\\client\\session.py\u001b[0m in \u001b[0;36m_call_tf_sessionrun\u001b[1;34m(self, options, feed_dict, fetch_list, target_list, run_metadata)\u001b[0m\n\u001b[0;32m   1442\u001b[0m                                             \u001b[0mfetch_list\u001b[0m\u001b[1;33m,\u001b[0m \u001b[0mtarget_list\u001b[0m\u001b[1;33m,\u001b[0m\u001b[1;33m\u001b[0m\u001b[1;33m\u001b[0m\u001b[0m\n\u001b[1;32m-> 1443\u001b[1;33m                                             run_metadata)\n\u001b[0m\u001b[0;32m   1444\u001b[0m \u001b[1;33m\u001b[0m\u001b[0m\n",
      "\u001b[1;31mInvalidArgumentError\u001b[0m: You must feed a value for placeholder tensor 'Placeholder_2' with dtype float and shape [?,2]\n\t [[{{node Placeholder_2}}]]",
      "\nDuring handling of the above exception, another exception occurred:\n",
      "\u001b[1;31mInvalidArgumentError\u001b[0m                      Traceback (most recent call last)",
      "\u001b[1;32m<ipython-input-31-9922ebc4c70d>\u001b[0m in \u001b[0;36m<module>\u001b[1;34m\u001b[0m\n\u001b[0;32m      9\u001b[0m \u001b[1;33m\u001b[0m\u001b[0m\n\u001b[0;32m     10\u001b[0m     \u001b[1;32mfor\u001b[0m \u001b[0mstep\u001b[0m \u001b[1;32min\u001b[0m \u001b[0mrange\u001b[0m\u001b[1;33m(\u001b[0m\u001b[1;36m10001\u001b[0m\u001b[1;33m)\u001b[0m\u001b[1;33m:\u001b[0m\u001b[1;33m\u001b[0m\u001b[1;33m\u001b[0m\u001b[0m\n\u001b[1;32m---> 11\u001b[1;33m         \u001b[0m_\u001b[0m\u001b[1;33m,\u001b[0m \u001b[0mcost_val\u001b[0m \u001b[1;33m=\u001b[0m \u001b[0msess\u001b[0m\u001b[1;33m.\u001b[0m\u001b[0mrun\u001b[0m\u001b[1;33m(\u001b[0m\u001b[1;33m[\u001b[0m\u001b[0mtrain\u001b[0m\u001b[1;33m,\u001b[0m \u001b[0mcost\u001b[0m\u001b[1;33m]\u001b[0m\u001b[1;33m,\u001b[0m \u001b[0mfeed_dict\u001b[0m\u001b[1;33m=\u001b[0m\u001b[1;33m{\u001b[0m\u001b[0mX\u001b[0m\u001b[1;33m:\u001b[0m\u001b[0mx_data\u001b[0m\u001b[1;33m,\u001b[0m \u001b[0mY\u001b[0m\u001b[1;33m:\u001b[0m\u001b[0my_data\u001b[0m\u001b[1;33m}\u001b[0m\u001b[1;33m)\u001b[0m\u001b[1;33m\u001b[0m\u001b[1;33m\u001b[0m\u001b[0m\n\u001b[0m\u001b[0;32m     12\u001b[0m         \u001b[1;32mif\u001b[0m \u001b[0mstep\u001b[0m \u001b[1;33m%\u001b[0m \u001b[1;36m1000\u001b[0m \u001b[1;33m==\u001b[0m \u001b[1;36m0\u001b[0m\u001b[1;33m:\u001b[0m\u001b[1;33m\u001b[0m\u001b[1;33m\u001b[0m\u001b[0m\n\u001b[0;32m     13\u001b[0m             \u001b[0mprint\u001b[0m\u001b[1;33m(\u001b[0m\u001b[0mstep\u001b[0m\u001b[1;33m,\u001b[0m \u001b[0mcost_val\u001b[0m\u001b[1;33m)\u001b[0m\u001b[1;33m\u001b[0m\u001b[1;33m\u001b[0m\u001b[0m\n",
      "\u001b[1;32mD:\\AnacondaDev\\lib\\site-packages\\tensorflow\\python\\client\\session.py\u001b[0m in \u001b[0;36mrun\u001b[1;34m(self, fetches, feed_dict, options, run_metadata)\u001b[0m\n\u001b[0;32m    956\u001b[0m     \u001b[1;32mtry\u001b[0m\u001b[1;33m:\u001b[0m\u001b[1;33m\u001b[0m\u001b[1;33m\u001b[0m\u001b[0m\n\u001b[0;32m    957\u001b[0m       result = self._run(None, fetches, feed_dict, options_ptr,\n\u001b[1;32m--> 958\u001b[1;33m                          run_metadata_ptr)\n\u001b[0m\u001b[0;32m    959\u001b[0m       \u001b[1;32mif\u001b[0m \u001b[0mrun_metadata\u001b[0m\u001b[1;33m:\u001b[0m\u001b[1;33m\u001b[0m\u001b[1;33m\u001b[0m\u001b[0m\n\u001b[0;32m    960\u001b[0m         \u001b[0mproto_data\u001b[0m \u001b[1;33m=\u001b[0m \u001b[0mtf_session\u001b[0m\u001b[1;33m.\u001b[0m\u001b[0mTF_GetBuffer\u001b[0m\u001b[1;33m(\u001b[0m\u001b[0mrun_metadata_ptr\u001b[0m\u001b[1;33m)\u001b[0m\u001b[1;33m\u001b[0m\u001b[1;33m\u001b[0m\u001b[0m\n",
      "\u001b[1;32mD:\\AnacondaDev\\lib\\site-packages\\tensorflow\\python\\client\\session.py\u001b[0m in \u001b[0;36m_run\u001b[1;34m(self, handle, fetches, feed_dict, options, run_metadata)\u001b[0m\n\u001b[0;32m   1179\u001b[0m     \u001b[1;32mif\u001b[0m \u001b[0mfinal_fetches\u001b[0m \u001b[1;32mor\u001b[0m \u001b[0mfinal_targets\u001b[0m \u001b[1;32mor\u001b[0m \u001b[1;33m(\u001b[0m\u001b[0mhandle\u001b[0m \u001b[1;32mand\u001b[0m \u001b[0mfeed_dict_tensor\u001b[0m\u001b[1;33m)\u001b[0m\u001b[1;33m:\u001b[0m\u001b[1;33m\u001b[0m\u001b[1;33m\u001b[0m\u001b[0m\n\u001b[0;32m   1180\u001b[0m       results = self._do_run(handle, final_targets, final_fetches,\n\u001b[1;32m-> 1181\u001b[1;33m                              feed_dict_tensor, options, run_metadata)\n\u001b[0m\u001b[0;32m   1182\u001b[0m     \u001b[1;32melse\u001b[0m\u001b[1;33m:\u001b[0m\u001b[1;33m\u001b[0m\u001b[1;33m\u001b[0m\u001b[0m\n\u001b[0;32m   1183\u001b[0m       \u001b[0mresults\u001b[0m \u001b[1;33m=\u001b[0m \u001b[1;33m[\u001b[0m\u001b[1;33m]\u001b[0m\u001b[1;33m\u001b[0m\u001b[1;33m\u001b[0m\u001b[0m\n",
      "\u001b[1;32mD:\\AnacondaDev\\lib\\site-packages\\tensorflow\\python\\client\\session.py\u001b[0m in \u001b[0;36m_do_run\u001b[1;34m(self, handle, target_list, fetch_list, feed_dict, options, run_metadata)\u001b[0m\n\u001b[0;32m   1357\u001b[0m     \u001b[1;32mif\u001b[0m \u001b[0mhandle\u001b[0m \u001b[1;32mis\u001b[0m \u001b[1;32mNone\u001b[0m\u001b[1;33m:\u001b[0m\u001b[1;33m\u001b[0m\u001b[1;33m\u001b[0m\u001b[0m\n\u001b[0;32m   1358\u001b[0m       return self._do_call(_run_fn, feeds, fetches, targets, options,\n\u001b[1;32m-> 1359\u001b[1;33m                            run_metadata)\n\u001b[0m\u001b[0;32m   1360\u001b[0m     \u001b[1;32melse\u001b[0m\u001b[1;33m:\u001b[0m\u001b[1;33m\u001b[0m\u001b[1;33m\u001b[0m\u001b[0m\n\u001b[0;32m   1361\u001b[0m       \u001b[1;32mreturn\u001b[0m \u001b[0mself\u001b[0m\u001b[1;33m.\u001b[0m\u001b[0m_do_call\u001b[0m\u001b[1;33m(\u001b[0m\u001b[0m_prun_fn\u001b[0m\u001b[1;33m,\u001b[0m \u001b[0mhandle\u001b[0m\u001b[1;33m,\u001b[0m \u001b[0mfeeds\u001b[0m\u001b[1;33m,\u001b[0m \u001b[0mfetches\u001b[0m\u001b[1;33m)\u001b[0m\u001b[1;33m\u001b[0m\u001b[1;33m\u001b[0m\u001b[0m\n",
      "\u001b[1;32mD:\\AnacondaDev\\lib\\site-packages\\tensorflow\\python\\client\\session.py\u001b[0m in \u001b[0;36m_do_call\u001b[1;34m(self, fn, *args)\u001b[0m\n\u001b[0;32m   1382\u001b[0m                     \u001b[1;34m'\\nsession_config.graph_options.rewrite_options.'\u001b[0m\u001b[1;33m\u001b[0m\u001b[1;33m\u001b[0m\u001b[0m\n\u001b[0;32m   1383\u001b[0m                     'disable_meta_optimizer = True')\n\u001b[1;32m-> 1384\u001b[1;33m       \u001b[1;32mraise\u001b[0m \u001b[0mtype\u001b[0m\u001b[1;33m(\u001b[0m\u001b[0me\u001b[0m\u001b[1;33m)\u001b[0m\u001b[1;33m(\u001b[0m\u001b[0mnode_def\u001b[0m\u001b[1;33m,\u001b[0m \u001b[0mop\u001b[0m\u001b[1;33m,\u001b[0m \u001b[0mmessage\u001b[0m\u001b[1;33m)\u001b[0m\u001b[1;33m\u001b[0m\u001b[1;33m\u001b[0m\u001b[0m\n\u001b[0m\u001b[0;32m   1385\u001b[0m \u001b[1;33m\u001b[0m\u001b[0m\n\u001b[0;32m   1386\u001b[0m   \u001b[1;32mdef\u001b[0m \u001b[0m_extend_graph\u001b[0m\u001b[1;33m(\u001b[0m\u001b[0mself\u001b[0m\u001b[1;33m)\u001b[0m\u001b[1;33m:\u001b[0m\u001b[1;33m\u001b[0m\u001b[1;33m\u001b[0m\u001b[0m\n",
      "\u001b[1;31mInvalidArgumentError\u001b[0m: You must feed a value for placeholder tensor 'Placeholder_2' with dtype float and shape [?,2]\n\t [[node Placeholder_2 (defined at <ipython-input-13-2a045ce50dee>:2) ]]\n\nOriginal stack trace for 'Placeholder_2':\n  File \"D:\\AnacondaDev\\lib\\runpy.py\", line 193, in _run_module_as_main\n    \"__main__\", mod_spec)\n  File \"D:\\AnacondaDev\\lib\\runpy.py\", line 85, in _run_code\n    exec(code, run_globals)\n  File \"D:\\AnacondaDev\\lib\\site-packages\\ipykernel_launcher.py\", line 16, in <module>\n    app.launch_new_instance()\n  File \"D:\\AnacondaDev\\lib\\site-packages\\traitlets\\config\\application.py\", line 664, in launch_instance\n    app.start()\n  File \"D:\\AnacondaDev\\lib\\site-packages\\ipykernel\\kernelapp.py\", line 612, in start\n    self.io_loop.start()\n  File \"D:\\AnacondaDev\\lib\\site-packages\\tornado\\platform\\asyncio.py\", line 149, in start\n    self.asyncio_loop.run_forever()\n  File \"D:\\AnacondaDev\\lib\\asyncio\\base_events.py\", line 541, in run_forever\n    self._run_once()\n  File \"D:\\AnacondaDev\\lib\\asyncio\\base_events.py\", line 1786, in _run_once\n    handle._run()\n  File \"D:\\AnacondaDev\\lib\\asyncio\\events.py\", line 88, in _run\n    self._context.run(self._callback, *self._args)\n  File \"D:\\AnacondaDev\\lib\\site-packages\\tornado\\ioloop.py\", line 690, in <lambda>\n    lambda f: self._run_callback(functools.partial(callback, future))\n  File \"D:\\AnacondaDev\\lib\\site-packages\\tornado\\ioloop.py\", line 743, in _run_callback\n    ret = callback()\n  File \"D:\\AnacondaDev\\lib\\site-packages\\tornado\\gen.py\", line 787, in inner\n    self.run()\n  File \"D:\\AnacondaDev\\lib\\site-packages\\tornado\\gen.py\", line 748, in run\n    yielded = self.gen.send(value)\n  File \"D:\\AnacondaDev\\lib\\site-packages\\ipykernel\\kernelbase.py\", line 365, in process_one\n    yield gen.maybe_future(dispatch(*args))\n  File \"D:\\AnacondaDev\\lib\\site-packages\\tornado\\gen.py\", line 209, in wrapper\n    yielded = next(result)\n  File \"D:\\AnacondaDev\\lib\\site-packages\\ipykernel\\kernelbase.py\", line 268, in dispatch_shell\n    yield gen.maybe_future(handler(stream, idents, msg))\n  File \"D:\\AnacondaDev\\lib\\site-packages\\tornado\\gen.py\", line 209, in wrapper\n    yielded = next(result)\n  File \"D:\\AnacondaDev\\lib\\site-packages\\ipykernel\\kernelbase.py\", line 545, in execute_request\n    user_expressions, allow_stdin,\n  File \"D:\\AnacondaDev\\lib\\site-packages\\tornado\\gen.py\", line 209, in wrapper\n    yielded = next(result)\n  File \"D:\\AnacondaDev\\lib\\site-packages\\ipykernel\\ipkernel.py\", line 306, in do_execute\n    res = shell.run_cell(code, store_history=store_history, silent=silent)\n  File \"D:\\AnacondaDev\\lib\\site-packages\\ipykernel\\zmqshell.py\", line 536, in run_cell\n    return super(ZMQInteractiveShell, self).run_cell(*args, **kwargs)\n  File \"D:\\AnacondaDev\\lib\\site-packages\\IPython\\core\\interactiveshell.py\", line 2877, in run_cell\n    raw_cell, store_history, silent, shell_futures)\n  File \"D:\\AnacondaDev\\lib\\site-packages\\IPython\\core\\interactiveshell.py\", line 2922, in _run_cell\n    return runner(coro)\n  File \"D:\\AnacondaDev\\lib\\site-packages\\IPython\\core\\async_helpers.py\", line 68, in _pseudo_sync_runner\n    coro.send(None)\n  File \"D:\\AnacondaDev\\lib\\site-packages\\IPython\\core\\interactiveshell.py\", line 3146, in run_cell_async\n    interactivity=interactivity, compiler=compiler, result=result)\n  File \"D:\\AnacondaDev\\lib\\site-packages\\IPython\\core\\interactiveshell.py\", line 3337, in run_ast_nodes\n    if (await self.run_code(code, result,  async_=asy)):\n  File \"D:\\AnacondaDev\\lib\\site-packages\\IPython\\core\\interactiveshell.py\", line 3417, in run_code\n    exec(code_obj, self.user_global_ns, self.user_ns)\n  File \"<ipython-input-13-2a045ce50dee>\", line 2, in <module>\n    X = tf.placeholder(tf.float32, [None, 2])\n  File \"D:\\AnacondaDev\\lib\\site-packages\\tensorflow\\python\\ops\\array_ops.py\", line 3100, in placeholder\n    return gen_array_ops.placeholder(dtype=dtype, shape=shape, name=name)\n  File \"D:\\AnacondaDev\\lib\\site-packages\\tensorflow\\python\\ops\\gen_array_ops.py\", line 6809, in placeholder\n    \"Placeholder\", dtype=dtype, shape=shape, name=name)\n  File \"D:\\AnacondaDev\\lib\\site-packages\\tensorflow\\python\\framework\\op_def_library.py\", line 744, in _apply_op_helper\n    attrs=attr_protos, op_def=op_def)\n  File \"D:\\AnacondaDev\\lib\\site-packages\\tensorflow\\python\\framework\\ops.py\", line 3485, in _create_op_internal\n    op_def=op_def)\n  File \"D:\\AnacondaDev\\lib\\site-packages\\tensorflow\\python\\framework\\ops.py\", line 1949, in __init__\n    self._traceback = tf_stack.extract_stack()\n"
     ]
    }
   ],
   "source": [
    "# 모델 실행\n",
    "with tf.Session() as sess:\n",
    "    \n",
    "    merged_summary = tf.summary.merge_all()\n",
    "    writer = tf.summary.FileWriter(\"./logs/xor_logs_r0_01\")\n",
    "    writer.add_graph(sess.graph)    \n",
    "    \n",
    "    sess.run(tf.global_variables_initializer())\n",
    "    \n",
    "    for step in range(10001):\n",
    "        _, cost_val = sess.run([train, cost], feed_dict={X:x_data, Y:y_data})\n",
    "        if step % 1000 == 0:\n",
    "            print(step, cost_val)\n",
    "    h, p, a = sess.run(\n",
    "        [hypothesis, predicted, accuracy], feed_dict={X:x_data, Y:y_data}\n",
    "    )\n",
    "    print(f\"\\nHypothesis :\\n{h} \\nPredicted:\\n{p} \\nAccuracy:\\n{a}\")"
   ]
  },
  {
   "cell_type": "code",
   "execution_count": null,
   "metadata": {},
   "outputs": [],
   "source": []
  },
  {
   "cell_type": "code",
   "execution_count": null,
   "metadata": {},
   "outputs": [],
   "source": []
  }
 ],
 "metadata": {
  "hide_input": false,
  "kernelspec": {
   "display_name": "Python 3",
   "language": "python",
   "name": "python3"
  },
  "language_info": {
   "codemirror_mode": {
    "name": "ipython",
    "version": 3
   },
   "file_extension": ".py",
   "mimetype": "text/x-python",
   "name": "python",
   "nbconvert_exporter": "python",
   "pygments_lexer": "ipython3",
   "version": "3.7.9"
  },
  "toc": {
   "base_numbering": 1,
   "nav_menu": {},
   "number_sections": true,
   "sideBar": true,
   "skip_h1_title": false,
   "title_cell": "Table of Contents",
   "title_sidebar": "Contents",
   "toc_cell": false,
   "toc_position": {},
   "toc_section_display": true,
   "toc_window_display": false
  }
 },
 "nbformat": 4,
 "nbformat_minor": 4
}
